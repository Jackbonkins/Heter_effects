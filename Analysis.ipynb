{
 "cells": [
  {
   "cell_type": "code",
   "execution_count": null,
   "metadata": {},
   "outputs": [],
   "source": [
    "import numpy as np\n",
    "import pandas as pd\n",
    "from Gen_data import SimulationStudy\n",
    "import matplotlib.pyplot as plt\n",
    "from sklearn.linear_model import LinearRegression\n",
    "from econml.metalearners import SLearner, TLearner\n",
    "from sklearn.model_selection import train_test_split\n",
    "from econml.dml import CausalForestDML, NonParamDML\n",
    "from sklearn.dummy import DummyClassifier\n",
    "from sklearn.ensemble import RandomForestRegressor, GradientBoostingRegressor\n",
    "from sklearn.preprocessing import PolynomialFeatures\n",
    "from sklearn.metrics import mean_squared_error \n",
    "import shap"
   ]
  },
  {
   "cell_type": "markdown",
   "metadata": {},
   "source": [
    "Define Necessary Functions"
   ]
  },
  {
   "cell_type": "code",
   "execution_count": null,
   "metadata": {},
   "outputs": [],
   "source": [
    "#Split into train and test set\n",
    "def get_split(simulation: pd.DataFrame) -> np.ndarray:\n",
    "    \n",
    "    train_df, test_df = train_test_split(simulation, test_size=0.5, random_state=42)\n",
    "\n",
    "    # Extract features and target variables for training\n",
    "    X_train = train_df[[col for col in simulation.columns if col.startswith('X')]]\n",
    "    T_train = train_df['T']\n",
    "    Y_train = train_df['y']\n",
    "\n",
    "    # Extract features and true CATE for testing\n",
    "    X_test = test_df[[col for col in simulation.columns if col.startswith('X')]]\n",
    "    T_test = test_df['T']\n",
    "    y_test = test_df['y']\n",
    "\n",
    "    true_cate_test = test_df['CATE']\n",
    "\n",
    "    return train_df, test_df, X_train, Y_train, T_train, X_test, T_test, y_test, true_cate_test"
   ]
  },
  {
   "cell_type": "code",
   "execution_count": null,
   "metadata": {},
   "outputs": [],
   "source": [
    "#Create OLS feature-treatment interactions\n",
    "def get_ols_features(X_train: pd.DataFrame, T_train: pd.DataFrame, X_test: pd.DataFrame, T_test: pd.DataFrame) -> pd.DataFrame:  \n",
    "\n",
    "    interactions_train = pd.DataFrame()\n",
    "    interactions_test = pd.DataFrame()\n",
    "\n",
    "\n",
    "    for col in X_train.columns:\n",
    "        interactions_train[f'{col}_T'] = X_train[col]*T_train\n",
    "        interactions_test[f'{col}_T'] = X_test[col]*T_test\n",
    "\n",
    "\n",
    "    X_train_ols = X_train.join(interactions_train)\n",
    "    X_test_ols = X_test.join(interactions_test)\n",
    "\n",
    "\n",
    "    return X_train_ols, X_test_ols\n",
    "\n"
   ]
  },
  {
   "cell_type": "code",
   "execution_count": null,
   "metadata": {},
   "outputs": [],
   "source": [
    "def vis_treatment_eff(simulation: pd.DataFrame):\n",
    "    sorted_cate = simulation[simulation['T'] == 1]\n",
    "    sorted_cate = sorted_cate.sort_values(by=['CATE'])\n",
    "    sorted_cate = sorted_cate[['CATE']]\n",
    "\n",
    "    x = np.linspace(0, len(sorted_cate), num=len(sorted_cate))\n",
    "    plt.scatter(x, sorted_cate, alpha=0.5)\n",
    "    #plt.plot(x, sorted_cate, color='red')\n",
    "    plt.xlabel('Observations')\n",
    "    plt.ylabel('Treatment Effects')"
   ]
  },
  {
   "cell_type": "code",
   "execution_count": null,
   "metadata": {},
   "outputs": [],
   "source": [
    "def plot_predict_cate_corr(est_cate: np.array, true_cate_test: np.array):\n",
    "    \n",
    "    plt.figure(figsize=(8, 8))\n",
    "    plt.scatter(est_cate, true_cate_test, alpha=0.5)    \n",
    "    plt.plot([min(true_cate_test), max(true_cate_test)], [min(true_cate_test), max(true_cate_test)], '--', color='red')\n",
    "    plt.xlabel('Estimated CATE')\n",
    "    plt.ylabel('True CATE')\n",
    "    plt.grid(True)\n",
    "    plt.show()\n",
    "\n",
    "    if type(est_cate) == np.ndarray:\n",
    "        \n",
    "\n",
    "    reg = LinearRegression().fit(est_cate, true_cate_test)\n",
    "    print(f'Correlation between true and predicted CATE: {reg.score(est_cate, true_cate_test)}')"
   ]
  },
  {
   "cell_type": "markdown",
   "metadata": {},
   "source": [
    "Create Simulations"
   ]
  },
  {
   "cell_type": "code",
   "execution_count": null,
   "metadata": {},
   "outputs": [],
   "source": [
    "#Create simulations\n",
    "\n",
    "sim_dict = {}\n",
    "i = 1\n",
    "\n",
    "for p in [10, 20, 30, 50]:\n",
    "    for n in [5000, 7000, 10000]:\n",
    "        sim: SimulationStudy = SimulationStudy(p=p, mean_correlation=0.8, cor_variance=0.01, n=n, geom=True)\n",
    "        simulation = sim.create_dataset()\n",
    "\n",
    "\n",
    "        key = f'Simulation_{p}_{n}'\n",
    "        value = simulation\n",
    "\n",
    "        sim_dict[key]= value\n",
    "        i += 1\n"
   ]
  },
  {
   "cell_type": "code",
   "execution_count": null,
   "metadata": {},
   "outputs": [],
   "source": [
    "#Split df into train and test data\n",
    "\n",
    "splits_dict = {}\n",
    "\n",
    "for key, value in sim_dict.items():\n",
    "\n",
    "    train_df, test_df, X_train, Y_train, T_train, X_test, T_test, y_test, true_cate_test = get_split(value)\n",
    "    \n",
    "    temp_dict = {'train_df': train_df, 'test_df': test_df, \n",
    "                   'X_train': X_train, 'Y_train': Y_train, \n",
    "                   'T_train': T_train, 'X_test': X_test, \n",
    "                   'T_test': T_test, 'Y_test': y_test, \n",
    "                   'true_cate_test': true_cate_test}\n",
    "\n",
    "        \n",
    "    splits_dict[key] = temp_dict\n",
    "\n"
   ]
  },
  {
   "cell_type": "code",
   "execution_count": null,
   "metadata": {},
   "outputs": [],
   "source": [
    "#Visualize Treatment Effects for ordered observations\n",
    "vis_treatment_eff(sim_dict['Simulation_10_10000'])"
   ]
  },
  {
   "cell_type": "markdown",
   "metadata": {},
   "source": [
    "OLS Model"
   ]
  },
  {
   "cell_type": "code",
   "execution_count": null,
   "metadata": {},
   "outputs": [],
   "source": [
    "#Estimate a fully feature-treatment interacted model\n",
    "\n",
    "x_train_ols, x_test_ols = get_ols_features(splits_dict['Simulation_10_10000']['X_train'], splits_dict['Simulation_10_10000']['T_train'],\n",
    "                                            splits_dict['Simulation_10_10000']['X_test'], splits_dict['Simulation_10_10000']['T_test'])"
   ]
  },
  {
   "cell_type": "code",
   "execution_count": null,
   "metadata": {},
   "outputs": [],
   "source": [
    "def ols_estimator(x_train_ols, y_train, x_test_ols, true_cate_test):\n",
    "\n",
    "    #Create OLS object\n",
    "    ols = LinearRegression()\n",
    "\n",
    "    #Fit OLS \n",
    "    ols.fit(x_train_ols, y_train)\n",
    "\n",
    "    #Estimate CATE\n",
    "    x_test_ols = x_test_ols[[col for col in x_test_ols.columns if col.startswith('X') and col.endswith('T')]]\n",
    "\n",
    "    coeff = pd.DataFrame(ols.coef_, x_train_ols.columns).T\n",
    "    coeff = coeff[[col for col in coeff.columns if col.startswith('X') and col.endswith('T')]].T\n",
    "    \n",
    "    estimated_cate = x_test_ols.dot(coeff)\n",
    "    \n",
    "    #Calculate MSE\n",
    "    OLS_MSE = mean_squared_error(true_cate_test, estimated_cate)\n",
    "\n",
    "    return estimated_cate, OLS_MSE \n",
    "    "
   ]
  },
  {
   "cell_type": "code",
   "execution_count": null,
   "metadata": {},
   "outputs": [],
   "source": [
    "estimated_cate_ols, ols_mse = ols_estimator(x_train_ols, splits_dict['Simulation_10_10000']['Y_train'], x_test_ols, splits_dict['Simulation_10_10000']['true_cate_test'])"
   ]
  },
  {
   "cell_type": "code",
   "execution_count": null,
   "metadata": {},
   "outputs": [],
   "source": [
    "plot_predict_cate_corr(estimated_cate_ols, splits_dict['Simulation_10_10000']['true_cate_test'])"
   ]
  },
  {
   "cell_type": "markdown",
   "metadata": {},
   "source": [
    "S-Learner"
   ]
  },
  {
   "cell_type": "code",
   "execution_count": null,
   "metadata": {},
   "outputs": [],
   "source": [
    "#s_learner = SLearner(overall_model=RandomForestRegressor())  \n",
    "#s_learner_model = s_learner.fit(Y=Y_train_1, T=T_train_1, X=X_train_1)\n",
    "#pred_cate_s = s_learner_model.effect(X_test_1)\n",
    "#plot_predict_cate_corr(pred_cate_s, true_cate_test_1)"
   ]
  },
  {
   "cell_type": "markdown",
   "metadata": {},
   "source": [
    "T-Learner"
   ]
  },
  {
   "cell_type": "code",
   "execution_count": null,
   "metadata": {},
   "outputs": [],
   "source": [
    "def TLearner_estimator(Y_train: pd.DataFrame, T_train: pd.DataFrame, X_train: pd.DataFrame, X_test: pd.DataFrame, true_cate_test: pd.DataFrame):\n",
    "\n",
    "    Y_train = Y_train.to_numpy()\n",
    "    T_train = T_train.to_numpy()\n",
    "    X_train = X_train.to_numpy()\n",
    "    X_test = X_test.to_numpy()\n",
    "    true_cate_test = true_cate_test.to_numpy()\n",
    "\n",
    "    est_t = TLearner(models=RandomForestRegressor())\n",
    "    est_t.fit(Y=Y_train, T=T_train, X=X_train)\n",
    "    estimated_cate_t = est_t.effect(X_test)\n",
    "    T_MSE = mean_squared_error(true_cate_test, estimated_cate_t)\n",
    "\n",
    "    return estimated_cate_t, T_MSE\n",
    "\n",
    "estimated_cate_t, T_MSE = TLearner_estimator(splits_dict['Simulation_10_10000']['Y_train'], splits_dict['Simulation_10_10000']['T_train'], \n",
    "                                             splits_dict['Simulation_10_10000']['X_train'], splits_dict['Simulation_10_10000']['X_test'],\n",
    "                                             splits_dict['Simulation_10_10000']['true_cate_test'])\n",
    "\n"
   ]
  },
  {
   "cell_type": "code",
   "execution_count": null,
   "metadata": {},
   "outputs": [],
   "source": [
    "plot_predict_cate_corr(estimated_cate_t, splits_dict['Simulation_10_10000']['true_cate_test'])"
   ]
  },
  {
   "cell_type": "markdown",
   "metadata": {},
   "source": [
    "Causal Forest DML"
   ]
  },
  {
   "cell_type": "code",
   "execution_count": null,
   "metadata": {},
   "outputs": [],
   "source": [
    "def CF_DML(Y_train: pd.DataFrame, T_train: pd.DataFrame, X_train: pd.DataFrame, X_test: pd.DataFrame, true_cate_test: pd.DataFrame) -> np.ndarray:\n",
    "\n",
    "    Y_train = Y_train.to_numpy()\n",
    "    T_train = T_train.to_numpy()\n",
    "    X_train = X_train.to_numpy()\n",
    "    X_test = X_test.to_numpy()\n",
    "    true_cate_test = true_cate_test.to_numpy()\n",
    "\n",
    "#Estimate the causal forest model\n",
    "    est_cfdml = CausalForestDML(model_y='auto',\n",
    "                        model_t=DummyClassifier(),\n",
    "                        discrete_treatment=True,\n",
    "                        cv=5,\n",
    "                        n_estimators=1000,\n",
    "                        random_state=42,\n",
    "                        criterion='mse',\n",
    "                        honest=True)\n",
    "\n",
    "    est_cfdml.fit(Y=Y_train, T=T_train, X=X_train, W=None, cache_values=True)\n",
    "    estimated_cate = est_cfdml.effect(X_test)\n",
    "    mse = mean_squared_error(true_cate_test, estimated_cate)\n",
    "    \n",
    "    return estimated_cate, mse\n",
    "\n",
    "estimated_cate_dml, cf_dml_MSE = CF_DML(splits_dict['Simulation_10_10000']['Y_train'], splits_dict['Simulation_10_10000']['T_train'], \n",
    "                                       splits_dict['Simulation_10_10000']['X_train'], splits_dict['Simulation_10_10000']['X_test'],\n",
    "                                       splits_dict['Simulation_10_10000']['true_cate_test'])\n",
    "\n"
   ]
  },
  {
   "cell_type": "code",
   "execution_count": null,
   "metadata": {},
   "outputs": [],
   "source": [
    "plot_predict_cate_corr(estimated_cate_dml, splits_dict['Simulation_10_10000']['true_cate_test'])"
   ]
  },
  {
   "cell_type": "markdown",
   "metadata": {},
   "source": [
    "Non-Parametric DML"
   ]
  },
  {
   "cell_type": "code",
   "execution_count": null,
   "metadata": {},
   "outputs": [],
   "source": [
    "def non_param_dml(Y_train: pd.DataFrame, T_train: pd.DataFrame, X_train: pd.DataFrame, X_test: pd.DataFrame, true_cate_test: pd.DataFrame):\n",
    "\n",
    "    Y_train = Y_train.to_numpy()\n",
    "    T_train = T_train.to_numpy()\n",
    "    X_train = X_train.to_numpy()\n",
    "    X_test = X_test.to_numpy()\n",
    "    true_cate_test = true_cate_test.to_numpy()\n",
    "\n",
    "    est_npm = NonParamDML(\n",
    "        model_y='auto',\n",
    "        model_t=DummyClassifier(),\n",
    "        model_final=GradientBoostingRegressor(),\n",
    "        cv = 5,\n",
    "        random_state = 42,\n",
    "        discrete_treatment=True,\n",
    "    )\n",
    "    \n",
    "    est_npm.fit(Y=Y_train, T=T_train, X=X_train, W=None, cache_values=True)\n",
    "    estimated_cate = est_npm.effect(X_test)\n",
    "    mse = mean_squared_error(true_cate_test, estimated_cate)\n",
    "\n",
    "    return estimated_cate, mse\n",
    "\n",
    "estimated_cate_non_param, non_param_MSE = non_param_dml(splits_dict['Simulation_10_10000']['Y_train'], splits_dict['Simulation_10_10000']['T_train'], \n",
    "                                       splits_dict['Simulation_10_10000']['X_train'], splits_dict['Simulation_10_10000']['X_test'],\n",
    "                                       splits_dict['Simulation_10_10000']['true_cate_test'])\n",
    "\n"
   ]
  },
  {
   "cell_type": "code",
   "execution_count": null,
   "metadata": {},
   "outputs": [],
   "source": [
    "plot_predict_cate_corr(estimated_cate_non_param, splits_dict['Simulation_10_10000']['true_cate_test'])"
   ]
  },
  {
   "cell_type": "code",
   "execution_count": null,
   "metadata": {},
   "outputs": [],
   "source": [
    "print(f'MSE T-Learner: {T_MSE}')\n",
    "print(f'MSE Double ML: {cf_dml_MSE}')\n",
    "print(f'MSE Non-Parametric Double ML: {non_param_MSE}')"
   ]
  }
 ],
 "metadata": {
  "kernelspec": {
   "display_name": "Python 3",
   "language": "python",
   "name": "python3"
  },
  "language_info": {
   "codemirror_mode": {
    "name": "ipython",
    "version": 3
   },
   "file_extension": ".py",
   "mimetype": "text/x-python",
   "name": "python",
   "nbconvert_exporter": "python",
   "pygments_lexer": "ipython3",
   "version": "3.12.3"
  }
 },
 "nbformat": 4,
 "nbformat_minor": 2
}

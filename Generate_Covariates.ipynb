{
 "cells": [
  {
   "cell_type": "code",
   "execution_count": null,
   "metadata": {},
   "outputs": [],
   "source": [
    "import numpy as np\n",
    "import pandas as pd"
   ]
  },
  {
   "cell_type": "code",
   "execution_count": null,
   "metadata": {},
   "outputs": [],
   "source": [
    "#Generate correlation matrix\n",
    "\n",
    "def gen_cov_matrix(p):\n",
    "\n",
    "    P = p # number of features/variables in the data set (complexity)\n",
    "    a = np.random.rand(P, P)\n",
    "    m = np.tril(a) + np.tril(a, -1).T\n",
    "    B = np.dot(m, m.transpose())\n",
    "\n",
    "    corr_matrix = pd.DataFrame(B).cov()\n",
    "\n",
    "    return corr_matrix\n",
    "\n",
    "cov_matrix = gen_cov_matrix(100)"
   ]
  },
  {
   "cell_type": "code",
   "execution_count": null,
   "metadata": {},
   "outputs": [],
   "source": [
    "#Check whether the correlation matrix is positive definite\n",
    "\n",
    "def positive_definite(matrix):\n",
    "    sign, determinant = np.linalg.slogdet(matrix)\n",
    "    \n",
    "    if sign <= 0:\n",
    "        print('Matrix is not positive definite')\n",
    "    else:\n",
    "        print('Matrix is positive definite')\n",
    "\n",
    "positive_definite(cov_matrix)"
   ]
  },
  {
   "cell_type": "code",
   "execution_count": null,
   "metadata": {},
   "outputs": [],
   "source": [
    "# Generate covariates from a normal distribution using the correlation matrix\n",
    "def gen_covariates(p, cov_matrix, N):\n",
    "       \n",
    "    mean=np.zeros(p, dtype=int)\n",
    "    X = np.random.default_rng().multivariate_normal(mean, cov_matrix, N)\n",
    "    covariates = pd.DataFrame(X)\n",
    "\n",
    "    return covariates\n",
    "\n",
    "df = gen_covariates(100, cov_matrix, 5000)"
   ]
  },
  {
   "cell_type": "code",
   "execution_count": null,
   "metadata": {},
   "outputs": [],
   "source": [
    "df"
   ]
  }
 ],
 "metadata": {
  "language_info": {
   "name": "python"
  }
 },
 "nbformat": 4,
 "nbformat_minor": 2
}

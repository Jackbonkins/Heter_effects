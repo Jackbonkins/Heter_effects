{
 "cells": [
  {
   "cell_type": "code",
   "execution_count": 1,
   "metadata": {},
   "outputs": [],
   "source": [
    "import Analysis_new as analysis\n",
    "import pandas as pd\n",
    "import pickle\n"
   ]
  },
  {
   "cell_type": "code",
   "execution_count": 2,
   "metadata": {},
   "outputs": [],
   "source": [
    "p_list = [20, 30, 40, 50]\n",
    "n_list=[500, 1000, 2000, 4000, 5000, 6000]"
   ]
  },
  {
   "cell_type": "code",
   "execution_count": 3,
   "metadata": {},
   "outputs": [],
   "source": [
    "def save_to_pkl(data_name, data):\n",
    "    with open(f'{data_name}.pkl', 'wb') as pickle_file:\n",
    "        pickle.dump(data, pickle_file)\n"
   ]
  },
  {
   "cell_type": "markdown",
   "metadata": {},
   "source": [
    "Linear Analysis"
   ]
  },
  {
   "cell_type": "code",
   "execution_count": 5,
   "metadata": {},
   "outputs": [
    {
     "name": "stderr",
     "output_type": "stream",
     "text": [
      "  0%|          | 0/4 [00:00<?, ?it/s]"
     ]
    },
    {
     "name": "stdout",
     "output_type": "stream",
     "text": [
      "Current p is 20 and current estimator is OLS\n",
      "Set size is equal to: 250\n",
      "Set size is equal to: 500\n",
      "Set size is equal to: 1000\n",
      "Set size is equal to: 2000\n",
      "Set size is equal to: 2500\n",
      "Set size is equal to: 3000\n",
      "Current p is 20 and current estimator is T-Learner\n",
      "Set size is equal to: 250\n",
      "Set size is equal to: 500\n",
      "Set size is equal to: 1000\n",
      "Set size is equal to: 2000\n",
      "Set size is equal to: 2500\n",
      "Set size is equal to: 3000\n",
      "Current p is 20 and current estimator is GRF\n",
      "Set size is equal to: 250\n",
      "Set size is equal to: 500\n",
      "Set size is equal to: 1000\n",
      "Set size is equal to: 2000\n",
      "Set size is equal to: 2500\n",
      "Set size is equal to: 3000\n",
      "Current p is 20 and current estimator is CF DML\n",
      "Set size is equal to: 250\n",
      "Set size is equal to: 500\n",
      "Set size is equal to: 1000\n",
      "Set size is equal to: 2000\n",
      "Set size is equal to: 2500\n"
     ]
    },
    {
     "name": "stderr",
     "output_type": "stream",
     "text": [
      " 25%|██▌       | 1/4 [19:45<59:15, 1185.09s/it]"
     ]
    },
    {
     "name": "stdout",
     "output_type": "stream",
     "text": [
      "Set size is equal to: 3000\n",
      "Current p is 30 and current estimator is OLS\n",
      "Set size is equal to: 250\n",
      "Set size is equal to: 500\n",
      "Set size is equal to: 1000\n",
      "Set size is equal to: 2000\n",
      "Set size is equal to: 2500\n",
      "Set size is equal to: 3000\n",
      "Current p is 30 and current estimator is T-Learner\n",
      "Set size is equal to: 250\n",
      "Set size is equal to: 500\n",
      "Set size is equal to: 1000\n",
      "Set size is equal to: 2000\n",
      "Set size is equal to: 2500\n",
      "Set size is equal to: 3000\n",
      "Current p is 30 and current estimator is GRF\n",
      "Set size is equal to: 250\n",
      "Set size is equal to: 500\n",
      "Set size is equal to: 1000\n",
      "Set size is equal to: 2000\n",
      "Set size is equal to: 2500\n",
      "Set size is equal to: 3000\n",
      "Current p is 30 and current estimator is CF DML\n",
      "Set size is equal to: 250\n",
      "Set size is equal to: 500\n",
      "Set size is equal to: 1000\n",
      "Set size is equal to: 2000\n",
      "Set size is equal to: 2500\n"
     ]
    },
    {
     "name": "stderr",
     "output_type": "stream",
     "text": [
      " 50%|█████     | 2/4 [46:00<47:09, 1414.54s/it]"
     ]
    },
    {
     "name": "stdout",
     "output_type": "stream",
     "text": [
      "Set size is equal to: 3000\n",
      "Current p is 40 and current estimator is OLS\n",
      "Set size is equal to: 250\n",
      "Set size is equal to: 500\n",
      "Set size is equal to: 1000\n",
      "Set size is equal to: 2000\n",
      "Set size is equal to: 2500\n",
      "Set size is equal to: 3000\n",
      "Current p is 40 and current estimator is T-Learner\n",
      "Set size is equal to: 250\n",
      "Set size is equal to: 500\n",
      "Set size is equal to: 1000\n",
      "Set size is equal to: 2000\n",
      "Set size is equal to: 2500\n",
      "Set size is equal to: 3000\n",
      "Current p is 40 and current estimator is GRF\n",
      "Set size is equal to: 250\n",
      "Set size is equal to: 500\n",
      "Set size is equal to: 1000\n",
      "Set size is equal to: 2000\n",
      "Set size is equal to: 2500\n",
      "Set size is equal to: 3000\n",
      "Current p is 40 and current estimator is CF DML\n",
      "Set size is equal to: 250\n",
      "Set size is equal to: 500\n",
      "Set size is equal to: 1000\n",
      "Set size is equal to: 2000\n",
      "Set size is equal to: 2500\n"
     ]
    },
    {
     "name": "stderr",
     "output_type": "stream",
     "text": [
      " 75%|███████▌  | 3/4 [1:18:54<27:49, 1669.90s/it]"
     ]
    },
    {
     "name": "stdout",
     "output_type": "stream",
     "text": [
      "Set size is equal to: 3000\n",
      "Current p is 50 and current estimator is OLS\n",
      "Set size is equal to: 250\n",
      "Set size is equal to: 500\n",
      "Set size is equal to: 1000\n",
      "Set size is equal to: 2000\n",
      "Set size is equal to: 2500\n",
      "Set size is equal to: 3000\n",
      "Current p is 50 and current estimator is T-Learner\n",
      "Set size is equal to: 250\n",
      "Set size is equal to: 500\n",
      "Set size is equal to: 1000\n",
      "Set size is equal to: 2000\n",
      "Set size is equal to: 2500\n",
      "Set size is equal to: 3000\n",
      "Current p is 50 and current estimator is GRF\n",
      "Set size is equal to: 250\n",
      "Set size is equal to: 500\n",
      "Set size is equal to: 1000\n",
      "Set size is equal to: 2000\n",
      "Set size is equal to: 2500\n",
      "Set size is equal to: 3000\n",
      "Current p is 50 and current estimator is CF DML\n",
      "Set size is equal to: 250\n",
      "Set size is equal to: 500\n",
      "Set size is equal to: 1000\n",
      "Set size is equal to: 2000\n",
      "Set size is equal to: 2500\n"
     ]
    },
    {
     "name": "stderr",
     "output_type": "stream",
     "text": [
      "100%|██████████| 4/4 [1:58:31<00:00, 1777.99s/it]"
     ]
    },
    {
     "name": "stdout",
     "output_type": "stream",
     "text": [
      "Set size is equal to: 3000\n"
     ]
    },
    {
     "name": "stderr",
     "output_type": "stream",
     "text": [
      "\n"
     ]
    }
   ],
   "source": [
    "p_dict_mse = analysis.get_rmse(p_list, n_list, mean_correlation=0.1, no_feat_cate=3, estimators = ['OLS', 'T-Learner', 'GRF', 'CF DML'])\n",
    "\n",
    "data_dict = {'mse_20_low_features_linear': p_dict_mse['20'], 'mse_30_low_features_linear': p_dict_mse['30'], \n",
    "             'mse_40_low_features_linear': p_dict_mse['40'], 'mse_50_low_features_linear': p_dict_mse['50']}\n",
    "\n",
    "for data_name, data in data_dict.items():\n",
    "    save_to_pkl(data_name, data)\n",
    "    \n",
    "#coverage_low_linear_df = analysis.create_coverage_df(p_dict_coverage)\n",
    "#coverage_low_linear_df.to_excel('coverage_low_linear.xlsx')\n"
   ]
  },
  {
   "cell_type": "code",
   "execution_count": 6,
   "metadata": {},
   "outputs": [
    {
     "name": "stderr",
     "output_type": "stream",
     "text": [
      "  0%|          | 0/4 [00:00<?, ?it/s]"
     ]
    },
    {
     "name": "stdout",
     "output_type": "stream",
     "text": [
      "Current p is 20 and current estimator is OLS\n",
      "Set size is equal to: 250\n",
      "Set size is equal to: 500\n",
      "Set size is equal to: 1000\n",
      "Set size is equal to: 2000\n",
      "Set size is equal to: 2500\n",
      "Set size is equal to: 3000\n",
      "Current p is 20 and current estimator is T-Learner\n",
      "Set size is equal to: 250\n",
      "Set size is equal to: 500\n",
      "Set size is equal to: 1000\n",
      "Set size is equal to: 2000\n",
      "Set size is equal to: 2500\n",
      "Set size is equal to: 3000\n",
      "Current p is 20 and current estimator is GRF\n",
      "Set size is equal to: 250\n",
      "Set size is equal to: 500\n",
      "Set size is equal to: 1000\n",
      "Set size is equal to: 2000\n",
      "Set size is equal to: 2500\n",
      "Set size is equal to: 3000\n",
      "Current p is 20 and current estimator is CF DML\n",
      "Set size is equal to: 250\n",
      "Set size is equal to: 500\n",
      "Set size is equal to: 1000\n",
      "Set size is equal to: 2000\n",
      "Set size is equal to: 2500\n"
     ]
    },
    {
     "name": "stderr",
     "output_type": "stream",
     "text": [
      " 25%|██▌       | 1/4 [20:30<1:01:32, 1230.88s/it]"
     ]
    },
    {
     "name": "stdout",
     "output_type": "stream",
     "text": [
      "Set size is equal to: 3000\n",
      "Current p is 30 and current estimator is OLS\n",
      "Set size is equal to: 250\n",
      "Set size is equal to: 500\n",
      "Set size is equal to: 1000\n",
      "Set size is equal to: 2000\n",
      "Set size is equal to: 2500\n",
      "Set size is equal to: 3000\n",
      "Current p is 30 and current estimator is T-Learner\n",
      "Set size is equal to: 250\n",
      "Set size is equal to: 500\n",
      "Set size is equal to: 1000\n",
      "Set size is equal to: 2000\n",
      "Set size is equal to: 2500\n",
      "Set size is equal to: 3000\n",
      "Current p is 30 and current estimator is GRF\n",
      "Set size is equal to: 250\n",
      "Set size is equal to: 500\n",
      "Set size is equal to: 1000\n",
      "Set size is equal to: 2000\n",
      "Set size is equal to: 2500\n",
      "Set size is equal to: 3000\n",
      "Current p is 30 and current estimator is CF DML\n",
      "Set size is equal to: 250\n",
      "Set size is equal to: 500\n",
      "Set size is equal to: 1000\n",
      "Set size is equal to: 2000\n",
      "Set size is equal to: 2500\n"
     ]
    },
    {
     "name": "stderr",
     "output_type": "stream",
     "text": [
      " 50%|█████     | 2/4 [47:46<48:57, 1468.70s/it]  "
     ]
    },
    {
     "name": "stdout",
     "output_type": "stream",
     "text": [
      "Set size is equal to: 3000\n",
      "Current p is 40 and current estimator is OLS\n",
      "Set size is equal to: 250\n",
      "Set size is equal to: 500\n",
      "Set size is equal to: 1000\n",
      "Set size is equal to: 2000\n",
      "Set size is equal to: 2500\n",
      "Set size is equal to: 3000\n",
      "Current p is 40 and current estimator is T-Learner\n",
      "Set size is equal to: 250\n",
      "Set size is equal to: 500\n",
      "Set size is equal to: 1000\n",
      "Set size is equal to: 2000\n",
      "Set size is equal to: 2500\n",
      "Set size is equal to: 3000\n",
      "Current p is 40 and current estimator is GRF\n",
      "Set size is equal to: 250\n",
      "Set size is equal to: 500\n",
      "Set size is equal to: 1000\n",
      "Set size is equal to: 2000\n",
      "Set size is equal to: 2500\n",
      "Set size is equal to: 3000\n",
      "Current p is 40 and current estimator is CF DML\n",
      "Set size is equal to: 250\n",
      "Set size is equal to: 500\n",
      "Set size is equal to: 1000\n",
      "Set size is equal to: 2000\n",
      "Set size is equal to: 2500\n"
     ]
    },
    {
     "name": "stderr",
     "output_type": "stream",
     "text": [
      " 75%|███████▌  | 3/4 [1:21:20<28:38, 1718.12s/it]"
     ]
    },
    {
     "name": "stdout",
     "output_type": "stream",
     "text": [
      "Set size is equal to: 3000\n",
      "Current p is 50 and current estimator is OLS\n",
      "Set size is equal to: 250\n",
      "Set size is equal to: 500\n",
      "Set size is equal to: 1000\n",
      "Set size is equal to: 2000\n",
      "Set size is equal to: 2500\n",
      "Set size is equal to: 3000\n",
      "Current p is 50 and current estimator is T-Learner\n",
      "Set size is equal to: 250\n",
      "Set size is equal to: 500\n",
      "Set size is equal to: 1000\n",
      "Set size is equal to: 2000\n",
      "Set size is equal to: 2500\n",
      "Set size is equal to: 3000\n",
      "Current p is 50 and current estimator is GRF\n",
      "Set size is equal to: 250\n",
      "Set size is equal to: 500\n",
      "Set size is equal to: 1000\n",
      "Set size is equal to: 2000\n",
      "Set size is equal to: 2500\n",
      "Set size is equal to: 3000\n",
      "Current p is 50 and current estimator is CF DML\n",
      "Set size is equal to: 250\n",
      "Set size is equal to: 500\n",
      "Set size is equal to: 1000\n",
      "Set size is equal to: 2000\n",
      "Set size is equal to: 2500\n"
     ]
    },
    {
     "name": "stderr",
     "output_type": "stream",
     "text": [
      "100%|██████████| 4/4 [2:04:32<00:00, 1868.10s/it]"
     ]
    },
    {
     "name": "stdout",
     "output_type": "stream",
     "text": [
      "Set size is equal to: 3000\n"
     ]
    },
    {
     "name": "stderr",
     "output_type": "stream",
     "text": [
      "\n"
     ]
    }
   ],
   "source": [
    "p_dict_mse = analysis.get_rmse(p_list, n_list, mean_correlation=0.5, no_feat_cate=3, estimators = ['OLS', 'T-Learner', 'GRF', 'CF DML'])\n",
    "\n",
    "\n",
    "data_dict = {'mse_20_medium_features_linear': p_dict_mse['20'], 'mse_30_medium_features_linear': p_dict_mse['30'], \n",
    "             'mse_40_medium_features_linear': p_dict_mse['40'], 'mse_50_medium_features_linear': p_dict_mse['50']}\n",
    "\n",
    "for data_name, data in data_dict.items():\n",
    "    save_to_pkl(data_name, data)\n",
    "\n",
    "#coverage_medium_linear_df = analysis.create_coverage_df(p_dict_coverage)   \n",
    "#coverage_medium_linear_df.to_excel('coverage_medium_linear.xlsx')"
   ]
  },
  {
   "cell_type": "code",
   "execution_count": 7,
   "metadata": {},
   "outputs": [
    {
     "name": "stderr",
     "output_type": "stream",
     "text": [
      "  0%|          | 0/4 [00:00<?, ?it/s]"
     ]
    },
    {
     "name": "stdout",
     "output_type": "stream",
     "text": [
      "Current p is 20 and current estimator is OLS\n",
      "Set size is equal to: 250\n",
      "Set size is equal to: 500\n",
      "Set size is equal to: 1000\n",
      "Set size is equal to: 2000\n",
      "Set size is equal to: 2500\n",
      "Set size is equal to: 3000\n",
      "Current p is 20 and current estimator is T-Learner\n",
      "Set size is equal to: 250\n",
      "Set size is equal to: 500\n",
      "Set size is equal to: 1000\n",
      "Set size is equal to: 2000\n",
      "Set size is equal to: 2500\n",
      "Set size is equal to: 3000\n",
      "Current p is 20 and current estimator is GRF\n",
      "Set size is equal to: 250\n",
      "Set size is equal to: 500\n",
      "Set size is equal to: 1000\n",
      "Set size is equal to: 2000\n",
      "Set size is equal to: 2500\n",
      "Set size is equal to: 3000\n",
      "Current p is 20 and current estimator is CF DML\n",
      "Set size is equal to: 250\n",
      "Set size is equal to: 500\n",
      "Set size is equal to: 1000\n",
      "Set size is equal to: 2000\n",
      "Set size is equal to: 2500\n"
     ]
    },
    {
     "name": "stderr",
     "output_type": "stream",
     "text": [
      " 25%|██▌       | 1/4 [21:26<1:04:19, 1286.63s/it]"
     ]
    },
    {
     "name": "stdout",
     "output_type": "stream",
     "text": [
      "Set size is equal to: 3000\n",
      "Current p is 30 and current estimator is OLS\n",
      "Set size is equal to: 250\n",
      "Set size is equal to: 500\n",
      "Set size is equal to: 1000\n",
      "Set size is equal to: 2000\n",
      "Set size is equal to: 2500\n",
      "Set size is equal to: 3000\n",
      "Current p is 30 and current estimator is T-Learner\n",
      "Set size is equal to: 250\n",
      "Set size is equal to: 500\n",
      "Set size is equal to: 1000\n",
      "Set size is equal to: 2000\n",
      "Set size is equal to: 2500\n",
      "Set size is equal to: 3000\n",
      "Current p is 30 and current estimator is GRF\n",
      "Set size is equal to: 250\n",
      "Set size is equal to: 500\n",
      "Set size is equal to: 1000\n",
      "Set size is equal to: 2000\n",
      "Set size is equal to: 2500\n",
      "Set size is equal to: 3000\n",
      "Current p is 30 and current estimator is CF DML\n",
      "Set size is equal to: 250\n",
      "Set size is equal to: 500\n",
      "Set size is equal to: 1000\n",
      "Set size is equal to: 2000\n",
      "Set size is equal to: 2500\n"
     ]
    },
    {
     "name": "stderr",
     "output_type": "stream",
     "text": [
      " 50%|█████     | 2/4 [48:52<49:55, 1497.93s/it]  "
     ]
    },
    {
     "name": "stdout",
     "output_type": "stream",
     "text": [
      "Set size is equal to: 3000\n",
      "Current p is 40 and current estimator is OLS\n",
      "Set size is equal to: 250\n",
      "Set size is equal to: 500\n",
      "Set size is equal to: 1000\n",
      "Set size is equal to: 2000\n",
      "Set size is equal to: 2500\n",
      "Set size is equal to: 3000\n",
      "Current p is 40 and current estimator is T-Learner\n",
      "Set size is equal to: 250\n",
      "Set size is equal to: 500\n",
      "Set size is equal to: 1000\n",
      "Set size is equal to: 2000\n",
      "Set size is equal to: 2500\n",
      "Set size is equal to: 3000\n",
      "Current p is 40 and current estimator is GRF\n",
      "Set size is equal to: 250\n",
      "Set size is equal to: 500\n",
      "Set size is equal to: 1000\n",
      "Set size is equal to: 2000\n",
      "Set size is equal to: 2500\n",
      "Set size is equal to: 3000\n",
      "Current p is 40 and current estimator is CF DML\n",
      "Set size is equal to: 250\n",
      "Set size is equal to: 500\n",
      "Set size is equal to: 1000\n",
      "Set size is equal to: 2000\n",
      "Set size is equal to: 2500\n"
     ]
    },
    {
     "name": "stderr",
     "output_type": "stream",
     "text": [
      " 75%|███████▌  | 3/4 [1:21:44<28:34, 1714.49s/it]"
     ]
    },
    {
     "name": "stdout",
     "output_type": "stream",
     "text": [
      "Set size is equal to: 3000\n",
      "Current p is 50 and current estimator is OLS\n",
      "Set size is equal to: 250\n",
      "Set size is equal to: 500\n",
      "Set size is equal to: 1000\n",
      "Set size is equal to: 2000\n",
      "Set size is equal to: 2500\n",
      "Set size is equal to: 3000\n",
      "Current p is 50 and current estimator is T-Learner\n",
      "Set size is equal to: 250\n",
      "Set size is equal to: 500\n",
      "Set size is equal to: 1000\n",
      "Set size is equal to: 2000\n",
      "Set size is equal to: 2500\n",
      "Set size is equal to: 3000\n",
      "Current p is 50 and current estimator is GRF\n",
      "Set size is equal to: 250\n",
      "Set size is equal to: 500\n",
      "Set size is equal to: 1000\n",
      "Set size is equal to: 2000\n",
      "Set size is equal to: 2500\n",
      "Set size is equal to: 3000\n",
      "Current p is 50 and current estimator is CF DML\n",
      "Set size is equal to: 250\n",
      "Set size is equal to: 500\n",
      "Set size is equal to: 1000\n",
      "Set size is equal to: 2000\n",
      "Set size is equal to: 2500\n"
     ]
    },
    {
     "name": "stderr",
     "output_type": "stream",
     "text": [
      "100%|██████████| 4/4 [2:01:10<00:00, 1817.70s/it]"
     ]
    },
    {
     "name": "stdout",
     "output_type": "stream",
     "text": [
      "Set size is equal to: 3000\n"
     ]
    },
    {
     "name": "stderr",
     "output_type": "stream",
     "text": [
      "\n"
     ]
    }
   ],
   "source": [
    "p_dict_mse = analysis.get_rmse(p_list, n_list, mean_correlation=0.8, no_feat_cate=3, estimators = ['OLS', 'T-Learner', 'GRF', 'CF DML'])\n",
    "\n",
    "data_dict = {'mse_20_high_features_linear': p_dict_mse['20'], 'mse_30_high_features_linear': p_dict_mse['30'], \n",
    "             'mse_40_high_features_linear': p_dict_mse['40'], 'mse_50_high_features_linear': p_dict_mse['50']}\n",
    "\n",
    "for data_name, data in data_dict.items():\n",
    "    save_to_pkl(data_name, data)\n",
    "\n",
    "#coverage_high_linear_df = analysis.create_coverage_df(p_dict_coverage)\n",
    "#coverage_high_linear_df.to_excel('coverage_high_linear.xlsx')\n"
   ]
  },
  {
   "cell_type": "markdown",
   "metadata": {},
   "source": [
    "Quadratic Analysis"
   ]
  },
  {
   "cell_type": "code",
   "execution_count": null,
   "metadata": {},
   "outputs": [],
   "source": [
    "p_dict_mse = analysis.get_rmse(p_list, n_list, mean_correlation=0.1, no_feat_cate=3, estimators = ['OLS', 'T-Learner', 'GRF', 'CF DML'], function='quadratic')\n",
    "\n",
    "data_dict = {'mse_20_low_features_quadratic': p_dict_mse['20'], 'mse_30_low_features_quadratic': p_dict_mse['30'], \n",
    "             'mse_40_low_features_quadratic': p_dict_mse['40'], 'mse_50_low_features_quadratic': p_dict_mse['50']}\n",
    "\n",
    "for data_name, data in data_dict.items():\n",
    "    save_to_pkl(data_name, data)\n",
    "\n",
    "#coverage_low_quadratic_df = analysis.create_coverage_df(p_dict_coverage)\n",
    "#coverage_low_quadratic_df.to_excel('coverage_low_quadratic.xlsx')"
   ]
  },
  {
   "cell_type": "code",
   "execution_count": null,
   "metadata": {},
   "outputs": [],
   "source": [
    "p_dict_mse = analysis.get_rmse(p_list, n_list, mean_correlation=0.5, no_feat_cate=3, estimators = ['OLS', 'T-Learner', 'GRF', 'CF DML'], function='quadratic')\n",
    "\n",
    "data_dict = {'mse_20_medium_features_quadratic': p_dict_mse['20'], 'mse_30_medium_features_quadratic': p_dict_mse['30'], \n",
    "             'mse_40_medium_features_quadratic': p_dict_mse['40'], 'mse_50_medium_features_quadratic': p_dict_mse['50']}\n",
    "\n",
    "for data_name, data in data_dict.items():\n",
    "    save_to_pkl(data_name, data)\n",
    "\n",
    "#coverage_medium_quadratic_df = analysis.create_coverage_df(p_dict_coverage)\n",
    "#coverage_medium_quadratic_df.to_excel('coverage_medium_quadratic.xlsx')"
   ]
  },
  {
   "cell_type": "code",
   "execution_count": null,
   "metadata": {},
   "outputs": [],
   "source": [
    "p_dict_mse = analysis.get_rmse(p_list, n_list, mean_correlation=0.8, no_feat_cate=3, estimators = ['OLS', 'T-Learner', 'GRF', 'CF DML'], function='quadratic')\n",
    "\n",
    "data_dict = {'mse_20_high_features_quadratic': p_dict_mse['20'], 'mse_30_high_features_quadratic': p_dict_mse['30'], \n",
    "             'mse_40_high_features_quadratic': p_dict_mse['40'], 'mse_50_high_features_quadratic': p_dict_mse['50']}\n",
    "\n",
    "for data_name, data in data_dict.items():\n",
    "    save_to_pkl(data_name, data)\n",
    "\n",
    "#coverage_high_quadratic_df = analysis.create_coverage_df(p_dict_coverage)\n",
    "#coverage_high_quadratic_df.to_excel('coverage_high_quadratic.xlsx')"
   ]
  }
 ],
 "metadata": {
  "kernelspec": {
   "display_name": "Python 3",
   "language": "python",
   "name": "python3"
  },
  "language_info": {
   "codemirror_mode": {
    "name": "ipython",
    "version": 3
   },
   "file_extension": ".py",
   "mimetype": "text/x-python",
   "name": "python",
   "nbconvert_exporter": "python",
   "pygments_lexer": "ipython3",
   "version": "3.12.3"
  }
 },
 "nbformat": 4,
 "nbformat_minor": 2
}

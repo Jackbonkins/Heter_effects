{
 "cells": [
  {
   "cell_type": "code",
   "execution_count": 1,
   "metadata": {},
   "outputs": [],
   "source": [
    "import Analysis_new as analysis\n",
    "import pandas as pd\n",
    "import pickle\n"
   ]
  },
  {
   "cell_type": "code",
   "execution_count": null,
   "metadata": {},
   "outputs": [],
   "source": [
    "'''Note: This file is used to compute the values for the RMSE plots. All results used to create the RMSE figures and tables are saved in .pkl files.'''"
   ]
  },
  {
   "cell_type": "code",
   "execution_count": 2,
   "metadata": {},
   "outputs": [],
   "source": [
    "p_list = [20, 30, 40, 50]\n",
    "n_list=[500, 1000, 2000, 4000, 6000, 8000]"
   ]
  },
  {
   "cell_type": "code",
   "execution_count": 3,
   "metadata": {},
   "outputs": [],
   "source": [
    "def save_to_pkl(data_name: str, data:pd.DataFrame):\n",
    "    with open(f'{data_name}.pkl', 'wb') as pickle_file:\n",
    "        pickle.dump(data, pickle_file)\n"
   ]
  },
  {
   "cell_type": "markdown",
   "metadata": {},
   "source": [
    "Linear Analysis"
   ]
  },
  {
   "cell_type": "code",
   "execution_count": null,
   "metadata": {},
   "outputs": [],
   "source": [
    "p_dict_mse = analysis.get_rmse(p_list, n_list, mean_correlation=0.1, no_feat_cate=3, estimators = ['OLS', 'T-Learner', 'GRF', 'CF DML'])\n",
    "\n",
    "data_dict = {'mse_20_low_features_linear': p_dict_mse['20'], 'mse_30_low_features_linear': p_dict_mse['30'], \n",
    "             'mse_40_low_features_linear': p_dict_mse['40'], 'mse_50_low_features_linear': p_dict_mse['50']}\n",
    "\n",
    "for data_name, data in data_dict.items():\n",
    "    save_to_pkl(data_name, data)\n",
    "    \n",
    "\n",
    "### Time elapsed to execute (29.08.2024): 143m 26.7s\n"
   ]
  },
  {
   "cell_type": "code",
   "execution_count": null,
   "metadata": {},
   "outputs": [],
   "source": [
    "p_dict_mse = analysis.get_rmse(p_list, n_list, mean_correlation=0.5, no_feat_cate=3, estimators = ['OLS', 'T-Learner', 'GRF', 'CF DML'])\n",
    "\n",
    "\n",
    "data_dict = {'mse_20_medium_features_linear': p_dict_mse['20'], 'mse_30_medium_features_linear': p_dict_mse['30'], \n",
    "             'mse_40_medium_features_linear': p_dict_mse['40'], 'mse_50_medium_features_linear': p_dict_mse['50']}\n",
    "\n",
    "for data_name, data in data_dict.items():\n",
    "    save_to_pkl(data_name, data)\n",
    "\n",
    "#Time elapsed to execute (29.08.24): 149m 3.7s"
   ]
  },
  {
   "cell_type": "code",
   "execution_count": null,
   "metadata": {},
   "outputs": [],
   "source": [
    "p_dict_mse = analysis.get_rmse(p_list, n_list, mean_correlation=0.8, no_feat_cate=3, estimators = ['OLS', 'T-Learner', 'GRF', 'CF DML'])\n",
    "\n",
    "data_dict = {'mse_20_high_features_linear': p_dict_mse['20'], 'mse_30_high_features_linear': p_dict_mse['30'], \n",
    "             'mse_40_high_features_linear': p_dict_mse['40'], 'mse_50_high_features_linear': p_dict_mse['50']}\n",
    "\n",
    "for data_name, data in data_dict.items():\n",
    "    save_to_pkl(data_name, data)\n",
    "\n",
    "#Time elapsed to execute (29.08.24): 150m 24.4s\n"
   ]
  },
  {
   "cell_type": "markdown",
   "metadata": {},
   "source": [
    "Quadratic Analysis"
   ]
  },
  {
   "cell_type": "code",
   "execution_count": null,
   "metadata": {},
   "outputs": [],
   "source": [
    "p_dict_mse = analysis.get_rmse(p_list, n_list, mean_correlation=0.1, no_feat_cate=3, estimators = ['OLS', 'T-Learner', 'GRF', 'CF DML'], function='quadratic')\n",
    "\n",
    "data_dict = {'mse_20_low_features_quadratic': p_dict_mse['20'], 'mse_30_low_features_quadratic': p_dict_mse['30'], \n",
    "             'mse_40_low_features_quadratic': p_dict_mse['40'], 'mse_50_low_features_quadratic': p_dict_mse['50']}\n",
    "\n",
    "for data_name, data in data_dict.items():\n",
    "    save_to_pkl(data_name, data)\n",
    "\n",
    "\n",
    "#Time elapsed to execute (29.08.24): 176m 53.4s"
   ]
  },
  {
   "cell_type": "code",
   "execution_count": null,
   "metadata": {},
   "outputs": [],
   "source": [
    "p_dict_mse = analysis.get_rmse(p_list, n_list, mean_correlation=0.5, no_feat_cate=3, estimators = ['OLS', 'T-Learner', 'GRF', 'CF DML'], function='quadratic')\n",
    "\n",
    "data_dict = {'mse_20_medium_features_quadratic': p_dict_mse['20'], 'mse_30_medium_features_quadratic': p_dict_mse['30'], \n",
    "             'mse_40_medium_features_quadratic': p_dict_mse['40'], 'mse_50_medium_features_quadratic': p_dict_mse['50']}\n",
    "\n",
    "for data_name, data in data_dict.items():\n",
    "    save_to_pkl(data_name, data)\n",
    "\n",
    "#Time elapsed to execute (29.08.24): 198m 9.4s"
   ]
  },
  {
   "cell_type": "code",
   "execution_count": null,
   "metadata": {},
   "outputs": [],
   "source": [
    "p_dict_mse = analysis.get_rmse(p_list, n_list, mean_correlation=0.8, no_feat_cate=3, estimators = ['OLS', 'T-Learner', 'GRF', 'CF DML'], function='quadratic')\n",
    "\n",
    "data_dict = {'mse_20_high_features_quadratic': p_dict_mse['20'], 'mse_30_high_features_quadratic': p_dict_mse['30'], \n",
    "             'mse_40_high_features_quadratic': p_dict_mse['40'], 'mse_50_high_features_quadratic': p_dict_mse['50']}\n",
    "\n",
    "for data_name, data in data_dict.items():\n",
    "    save_to_pkl(data_name, data)\n",
    "\n",
    "#Time elapsed to execute (29.08.24): 188m 15.4s \n"
   ]
  }
 ],
 "metadata": {
  "kernelspec": {
   "display_name": "Python 3",
   "language": "python",
   "name": "python3"
  },
  "language_info": {
   "codemirror_mode": {
    "name": "ipython",
    "version": 3
   },
   "file_extension": ".py",
   "mimetype": "text/x-python",
   "name": "python",
   "nbconvert_exporter": "python",
   "pygments_lexer": "ipython3",
   "version": "3.12.3"
  }
 },
 "nbformat": 4,
 "nbformat_minor": 2
}

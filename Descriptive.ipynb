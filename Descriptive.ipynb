{
 "cells": [
  {
   "cell_type": "code",
   "execution_count": null,
   "metadata": {},
   "outputs": [],
   "source": [
    "'''  \n",
    "\n",
    "This notebook produces all summary statistics used in the paper. \n",
    "\n",
    "Figures 1,2, B.1, B.2, and B.3\n",
    "Tables 1 and 2\n",
    "\n",
    "'''"
   ]
  },
  {
   "cell_type": "code",
   "execution_count": 2,
   "metadata": {},
   "outputs": [],
   "source": [
    "import Graph_feat as graph\n",
    "from sklearn.linear_model import LinearRegression\n",
    "from Gen_data import SimulationStudy\n",
    "import numpy as np\n",
    "import pandas as pd"
   ]
  },
  {
   "cell_type": "code",
   "execution_count": 14,
   "metadata": {},
   "outputs": [],
   "source": [
    "np.random.seed(220924)\n",
    "sim1: SimulationStudy = SimulationStudy(p=20, mean_correlation=0.5, cor_variance=0.2, n=1500, no_feat_cate=3, seed=220924)\n",
    "simulation_linear = sim1.create_dataset()\n",
    "cate_linear = simulation_linear[['CATE']]\n",
    "\n",
    "sim2: SimulationStudy = SimulationStudy(p=20, mean_correlation=0.5, cor_variance=0.2, n=1500, no_feat_cate=3, non_linear='quadratic', seed=220924)\n",
    "simulation_quad = sim2.create_dataset()\n",
    "cate_quadratic = simulation_quad[['CATE']]"
   ]
  },
  {
   "cell_type": "code",
   "execution_count": null,
   "metadata": {},
   "outputs": [],
   "source": [
    "cov_lin, mean = sim1.get_covariance_matrix()\n",
    "np.mean(cov_lin)"
   ]
  },
  {
   "cell_type": "code",
   "execution_count": null,
   "metadata": {},
   "outputs": [],
   "source": [
    "#Check the mean and variance of each feature\n",
    "columns = [col for col in simulation_linear.columns if col.startswith('X')]\n",
    "for col in columns:\n",
    "    print(f'Mean of {col} is:', np.mean(simulation_linear[col].to_numpy()))\n",
    "    print(f'Variance of {col} is:', np.var(simulation_linear[col].to_numpy()))"
   ]
  },
  {
   "cell_type": "markdown",
   "metadata": {},
   "source": [
    "Linear Setting"
   ]
  },
  {
   "cell_type": "code",
   "execution_count": null,
   "metadata": {},
   "outputs": [],
   "source": [
    "#Check for pairwise correlations\n",
    "simulation_linear_rel = simulation_linear[['CATE', 'X0', 'X1', 'X2']]\n",
    "correlation_pairwise_lin = simulation_linear_rel.corr()\n",
    "correlation_pairwise_lin"
   ]
  },
  {
   "cell_type": "code",
   "execution_count": null,
   "metadata": {},
   "outputs": [],
   "source": [
    "#Calculate CATE weights\n",
    "lr = LinearRegression().fit(simulation_linear[['X0', 'X1', 'X2']].to_numpy(), cate_linear.to_numpy())\n",
    "feat_weights_linear = lr.coef_\n",
    "feat_weights_linear"
   ]
  },
  {
   "cell_type": "code",
   "execution_count": 8,
   "metadata": {},
   "outputs": [],
   "source": [
    "## Plot relationship between all features and CATE\n",
    "graph.plot_cate_feat_val(p=20, n=1500, mean_correlation=0.5, no_feat_cate=3, function='linear')\n",
    "\n",
    "## Plot relationship between CATE features and CATE\n",
    "graph.plot_cate_feat_val(p=20, n=1500, mean_correlation=0.5, no_feat_cate=3, function='linear', total=False)"
   ]
  },
  {
   "cell_type": "code",
   "execution_count": 9,
   "metadata": {},
   "outputs": [],
   "source": [
    "#Get the distribution of CATE values\n",
    "graph.distr_cate(p=20, mean_correlation=0.5, n=1500, function='linear')"
   ]
  },
  {
   "cell_type": "markdown",
   "metadata": {},
   "source": [
    "Quadratic Setting"
   ]
  },
  {
   "cell_type": "code",
   "execution_count": null,
   "metadata": {},
   "outputs": [],
   "source": [
    "#Get pairwise correlation of the three relevant features and the non linear CATE\n",
    "simulation_quad_rel = simulation_quad[['CATE', 'X0', 'X1', 'X2']]\n",
    "correlation_pairwise_quad = simulation_quad_rel.corr()\n",
    "correlation_pairwise_quad"
   ]
  },
  {
   "cell_type": "code",
   "execution_count": null,
   "metadata": {},
   "outputs": [],
   "source": [
    "#Calculate the weights\n",
    "lr = LinearRegression().fit(np.square(simulation_quad[['X0', 'X1', 'X2']].to_numpy()), cate_quadratic.to_numpy())\n",
    "feat_weights_quad = lr.coef_\n",
    "feat_weights_quad"
   ]
  },
  {
   "cell_type": "code",
   "execution_count": 12,
   "metadata": {},
   "outputs": [],
   "source": [
    "## Plot relationship between all features and CATE\n",
    "graph.plot_cate_feat_val(p=20, n=1500, mean_correlation=0.5, no_feat_cate=3, function='quadratic')\n",
    "\n",
    "## Plot relationship between CATE features and CATE\n",
    "graph.plot_cate_feat_val(p=20, n=1500, mean_correlation=0.5, no_feat_cate=3, function='quadratic', total=False)"
   ]
  },
  {
   "cell_type": "code",
   "execution_count": 13,
   "metadata": {},
   "outputs": [],
   "source": [
    "#Get the distribution of CATE values\n",
    "graph.distr_cate(p=20, mean_correlation=0.5, n=1500, function='quadratic')"
   ]
  }
 ],
 "metadata": {
  "kernelspec": {
   "display_name": "Python 3",
   "language": "python",
   "name": "python3"
  },
  "language_info": {
   "codemirror_mode": {
    "name": "ipython",
    "version": 3
   },
   "file_extension": ".py",
   "mimetype": "text/x-python",
   "name": "python",
   "nbconvert_exporter": "python",
   "pygments_lexer": "ipython3",
   "version": "3.12.3"
  }
 },
 "nbformat": 4,
 "nbformat_minor": 2
}

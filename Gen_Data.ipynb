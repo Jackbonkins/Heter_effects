{
 "cells": [
  {
   "cell_type": "code",
   "execution_count": 2,
   "metadata": {},
   "outputs": [],
   "source": [
    "import numpy as np\n",
    "import pandas as pd\n",
    "from sklearn.preprocessing import PolynomialFeatures\n",
    "from Gen_data import SimulationStudy\n",
    "import matplotlib.pyplot as plt\n",
    "from sklearn.linear_model import LinearRegression\n"
   ]
  },
  {
   "cell_type": "code",
   "execution_count": 13,
   "metadata": {},
   "outputs": [],
   "source": [
    "sim_1: SimulationStudy = SimulationStudy(p=50, mean_correlation=0.4, n=2000, poly_degree=7)\n",
    "#sim_2: SimulationStudy = SimulationStudy(p=100,mean_correlation=0.3,n=2000, degree=2)\n",
    "#simulation_2 = sim_2.create_dataset()\n",
    "simulation_1 = sim_1.create_dataset()\n",
    "\n"
   ]
  },
  {
   "cell_type": "code",
   "execution_count": 14,
   "metadata": {},
   "outputs": [
    {
     "data": {
      "image/png": "[encoded data removed]",
      "text/plain": [
       "<Figure size 640x480 with 1 Axes>"
      ]
     },
     "metadata": {},
     "output_type": "display_data"
    }
   ],
   "source": [
    "treated = simulation_1[simulation_1[\"T\"] == 1]\n",
    "plt.plot(treated[\"mu_x\"], treated[\"CATE\"], 'o')\n",
    "plt.xlabel(\"Mu(x)\")\n",
    "plt.ylabel(\"CATE\")\n",
    "plt.show()"
   ]
  },
  {
   "cell_type": "code",
   "execution_count": 15,
   "metadata": {},
   "outputs": [
    {
     "data": {
      "text/plain": [
       "0.21696336328328325"
      ]
     },
     "execution_count": 15,
     "metadata": {},
     "output_type": "execute_result"
    }
   ],
   "source": [
    "x=treated[[\"mu_x\"]]\n",
    "y=treated[[\"CATE\"]]\n",
    "\n",
    "\n",
    "reg = LinearRegression().fit(x, y)\n",
    "reg.score(x, y)"
   ]
  },
  {
   "cell_type": "code",
   "execution_count": null,
   "metadata": {},
   "outputs": [],
   "source": [
    "treated = simulation_1[simulation_1[\"T\"] == 1]\n",
    "x_var_treat = treated[\"X2\"]\n",
    "plt.plot(x_var_treat, treated[\"y\"], 'o')\n",
    "\n",
    "#untreated = simulation_1[simulation_1[\"T\"] == 0]\n",
    "#x_var_untreat = untreated[\"X1\"]\n",
    "#plt.plot(x_var_untreat, untreated[\"y\"], 'o')\n",
    "\n",
    "#fit polynomial regression\n",
    "poly_fit = np.polyfit(x_var_treat, treated[\"CATE\"], 5)\n",
    "poly_fit_fn = np.poly1d(poly_fit)\n",
    "plt.plot(treated[\"X2\"], poly_fit_fn(treated[\"X2\"]))\n"
   ]
  },
  {
   "cell_type": "code",
   "execution_count": null,
   "metadata": {},
   "outputs": [],
   "source": [
    "x_var=treated[[\"mu_x\"]]\n",
    "y_var=treated[[\"CATE\"]]\n",
    "\n",
    "\n",
    "reg = LinearRegression().fit(x, y)\n",
    "reg.score(x, y)"
   ]
  },
  {
   "cell_type": "code",
   "execution_count": null,
   "metadata": {},
   "outputs": [],
   "source": [
    "plt.plot(simulation_1[\"CATE\"], simulation_2[\"CATE\"], 'o')"
   ]
  },
  {
   "cell_type": "code",
   "execution_count": null,
   "metadata": {},
   "outputs": [],
   "source": [
    "x = simulation_1[['CATE']]\n",
    "y = simulation_2[['CATE']]\n",
    "\n",
    "reg = LinearRegression().fit(x, y)\n",
    "reg.score(x, y)"
   ]
  }
 ],
 "metadata": {
  "kernelspec": {
   "display_name": "base",
   "language": "python",
   "name": "python3"
  },
  "language_info": {
   "codemirror_mode": {
    "name": "ipython",
    "version": 3
   },
   "file_extension": ".py",
   "mimetype": "text/x-python",
   "name": "python",
   "nbconvert_exporter": "python",
   "pygments_lexer": "ipython3",
   "version": "3.12.3"
  }
 },
 "nbformat": 4,
 "nbformat_minor": 2
}

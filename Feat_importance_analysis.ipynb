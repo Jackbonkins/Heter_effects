{
 "cells": [
  {
   "cell_type": "code",
   "execution_count": 32,
   "metadata": {},
   "outputs": [],
   "source": [
    "import pandas as pd\n",
    "import numpy as np\n",
    "from Gen_data import SimulationStudy\n",
    "import Methods_all_sample as method\n",
    "from Analysis_new import get_split\n",
    "import subprocess\n",
    "import pickle\n",
    "import matplotlib.pyplot as plt\n"
   ]
  },
  {
   "cell_type": "code",
   "execution_count": 33,
   "metadata": {},
   "outputs": [],
   "source": [
    "def save_to_pkl(data_name, data):\n",
    "    with open(f'{data_name}.pkl', 'wb') as pickle_file:\n",
    "        pickle.dump(data, pickle_file)"
   ]
  },
  {
   "cell_type": "code",
   "execution_count": 34,
   "metadata": {},
   "outputs": [],
   "source": [
    "np.random.seed(220924)\n",
    "sim: SimulationStudy = SimulationStudy(p=30, mean_correlation=0.5, cor_variance=0.2, n=4000, no_feat_cate=3, non_linear = 'quadratic', seed=220924)\n",
    "simulation = sim.create_dataset()\n",
    "train_df, test_df, X_train, Y_train, T_train, X_test, T_test, Y_test, true_cate_train, true_cate_test = get_split(simulation)\n",
    "\n",
    "df_dict = {'train_df': train_df, 'X_train': X_train, 'Y_train': Y_train, 'T_train': T_train, 'X_test': X_test, 'T_test': T_test}\n",
    "\n",
    "for data_name, data in df_dict.items():\n",
    "    save_to_pkl(data_name, data)\n"
   ]
  },
  {
   "cell_type": "markdown",
   "metadata": {},
   "source": [
    "T-Learner Feature Importance"
   ]
  },
  {
   "cell_type": "code",
   "execution_count": 35,
   "metadata": {},
   "outputs": [],
   "source": [
    "def run_TLearner_causalml(env=r'C:\\Users\\joaov\\anaconda3\\envs\\causalml-py38\\python.exe'):\n",
    "    subprocess.run([env, 'TLearner_feat_imp.py'])\n",
    "    \n",
    "run_TLearner_causalml()"
   ]
  },
  {
   "cell_type": "code",
   "execution_count": 36,
   "metadata": {},
   "outputs": [],
   "source": [
    "est_t, estimated_cate_train, estimated_cate_test, RMSE_test, RMSE_train = method.TLearner_estimator(Y_train, T_train, X_train, X_test, T_test, \n",
    "                                                                                                    true_cate_train, true_cate_test)"
   ]
  },
  {
   "cell_type": "markdown",
   "metadata": {},
   "source": [
    "Check that both libraries deliver the exact same CATEs"
   ]
  },
  {
   "cell_type": "code",
   "execution_count": 37,
   "metadata": {},
   "outputs": [],
   "source": [
    "cate_t_causalml= np.load('causalml_cate_tlearner.npy', allow_pickle=True)"
   ]
  },
  {
   "cell_type": "code",
   "execution_count": 38,
   "metadata": {},
   "outputs": [
    {
     "name": "stderr",
     "output_type": "stream",
     "text": [
      "FigureCanvasPgf is non-interactive, and thus cannot be shown\n"
     ]
    }
   ],
   "source": [
    "plt.figure(figsize=(8, 6))\n",
    "plt.hist([estimated_cate_test, cate_t_causalml.reshape(1,-1).flatten()], bins=30, alpha=0.5, label=['Econ ML', 'CausalML'])\n",
    "plt.xlabel('CATE Estimates')\n",
    "plt.ylabel('Frequency')\n",
    "plt.title('Overlap of CATE Estimates from EconML and CausalML')\n",
    "plt.legend(loc='upper right')\n",
    "plt.show()"
   ]
  },
  {
   "cell_type": "code",
   "execution_count": 39,
   "metadata": {},
   "outputs": [],
   "source": [
    "import feature_importance"
   ]
  },
  {
   "cell_type": "markdown",
   "metadata": {},
   "source": [
    "Feature Importance T-Learner"
   ]
  },
  {
   "cell_type": "code",
   "execution_count": 40,
   "metadata": {},
   "outputs": [],
   "source": [
    "important_feats_t = np.load('feat_importance.npy', allow_pickle=True)\n",
    "feats_dict = important_feats_t.item()\n",
    "series = feats_dict[1]\n",
    "important_feats_t = series.index\n",
    "\n",
    "\n",
    "feature_importance.partial_dependence_plots(X_test, important_feats_t, est = est_t)"
   ]
  },
  {
   "cell_type": "markdown",
   "metadata": {},
   "source": [
    "GRF Feature Importance"
   ]
  },
  {
   "cell_type": "code",
   "execution_count": 41,
   "metadata": {},
   "outputs": [],
   "source": [
    "est_grf, feat_importance_grf, estimated_cate_train_grf, estimated_cate_test_grf, RMSE_test_grf, RMSE_train_grf = method.GRF_estimator(Y_train, T_train, X_train, X_test, T_test, \n",
    "                                                                                                    true_cate_train, true_cate_test)\n",
    "\n",
    "important_feats_grf = feature_importance.get_important_feats(X_test, feat_importance_grf)\n",
    "feature_importance.partial_dependence_plots(X_test, important_feats_grf, est = est_grf)"
   ]
  },
  {
   "cell_type": "markdown",
   "metadata": {},
   "source": [
    "CF DML Feature Importance"
   ]
  },
  {
   "cell_type": "code",
   "execution_count": 42,
   "metadata": {},
   "outputs": [],
   "source": [
    "est_cfdml, feat_importance_cfdml, estimated_cate_train_cfdml, estimated_cate_test_cfdml, RMSE_test_cfdml, RMSE_train_cfdml = method.CF_DML(Y_train, T_train, X_train, X_test, T_test, \n",
    "                                                                                                    true_cate_train, true_cate_test)\n",
    "\n",
    "important_feats_cfdml = feature_importance.get_important_feats(X_test, feat_importance_cfdml)\n",
    "feature_importance.partial_dependence_plots(X_test, important_feats_cfdml, est = est_cfdml)"
   ]
  }
 ],
 "metadata": {
  "kernelspec": {
   "display_name": "causalml-py38",
   "language": "python",
   "name": "python3"
  },
  "language_info": {
   "codemirror_mode": {
    "name": "ipython",
    "version": 3
   },
   "file_extension": ".py",
   "mimetype": "text/x-python",
   "name": "python",
   "nbconvert_exporter": "python",
   "pygments_lexer": "ipython3",
   "version": "3.12.3"
  }
 },
 "nbformat": 4,
 "nbformat_minor": 2
}

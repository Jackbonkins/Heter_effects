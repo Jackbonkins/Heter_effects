{
 "cells": [
  {
   "cell_type": "code",
   "execution_count": 1,
   "metadata": {},
   "outputs": [],
   "source": [
    "import pickle\n",
    "import Graph_MSE as plot\n"
   ]
  },
  {
   "cell_type": "markdown",
   "metadata": {},
   "source": [
    "Graph MSE with Linear CATE"
   ]
  },
  {
   "cell_type": "code",
   "execution_count": 2,
   "metadata": {},
   "outputs": [],
   "source": [
    "mse_files_linear = ['mse_20_low_features_linear', 'mse_30_low_features_linear', 'mse_40_low_features_linear', 'mse_50_low_features_linear',\n",
    "                    'mse_20_medium_features_linear', 'mse_30_medium_features_linear', 'mse_40_medium_features_linear', 'mse_50_medium_features_linear',\n",
    "                    'mse_20_high_features_linear', 'mse_30_high_features_linear', 'mse_40_high_features_linear', 'mse_50_high_features_linear'\n",
    "                    ]\n",
    "\n",
    "mse_dict_linear = {}\n",
    "for file_name in mse_files_linear:\n",
    "    with open(f'{file_name}.pkl', 'rb') as file:\n",
    "        globals()[file_name] = pickle.load(file)\n",
    "\n",
    "    key = f'{file_name}'\n",
    "    mse_dict_linear[key] = globals()[file_name]\n",
    "\n"
   ]
  },
  {
   "cell_type": "code",
   "execution_count": 3,
   "metadata": {},
   "outputs": [],
   "source": [
    "plot.plot_mse_analysis_test(mse_dict_linear, style='seaborn-v0_8', analysis_type='Linear')"
   ]
  },
  {
   "cell_type": "markdown",
   "metadata": {},
   "source": [
    "Graph MSE with Non-Linear CATE"
   ]
  },
  {
   "cell_type": "code",
   "execution_count": 4,
   "metadata": {},
   "outputs": [],
   "source": [
    "mse_files_quadratic = ['mse_20_low_features_quadratic', 'mse_30_low_features_quadratic', 'mse_40_low_features_quadratic', 'mse_50_low_features_quadratic',\n",
    "                       'mse_20_medium_features_quadratic', 'mse_30_medium_features_quadratic', 'mse_40_medium_features_quadratic', 'mse_50_medium_features_quadratic',\n",
    "                       'mse_20_high_features_quadratic', 'mse_30_high_features_quadratic', 'mse_40_high_features_quadratic', 'mse_50_high_features_quadratic'\n",
    "                      ]"
   ]
  },
  {
   "cell_type": "code",
   "execution_count": 5,
   "metadata": {},
   "outputs": [],
   "source": [
    "mse_dict_quadratic = {}\n",
    "for file_name in mse_files_quadratic:\n",
    "    with open(f'{file_name}.pkl', 'rb') as file:\n",
    "        globals()[file_name] = pickle.load(file)\n",
    "\n",
    "    key = f'{file_name}'\n",
    "    mse_dict_quadratic[key] = globals()[file_name]"
   ]
  },
  {
   "cell_type": "code",
   "execution_count": 6,
   "metadata": {},
   "outputs": [],
   "source": [
    "plot.plot_mse_analysis_test(mse_dict_quadratic, style='seaborn-v0_8-colorblind', analysis_type='Quadratic')"
   ]
  }
 ],
 "metadata": {
  "kernelspec": {
   "display_name": "Python 3",
   "language": "python",
   "name": "python3"
  },
  "language_info": {
   "codemirror_mode": {
    "name": "ipython",
    "version": 3
   },
   "file_extension": ".py",
   "mimetype": "text/x-python",
   "name": "python",
   "nbconvert_exporter": "python",
   "pygments_lexer": "ipython3",
   "version": "3.12.3"
  }
 },
 "nbformat": 4,
 "nbformat_minor": 2
}

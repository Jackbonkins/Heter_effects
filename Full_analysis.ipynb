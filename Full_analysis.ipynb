{
 "cells": [
  {
   "cell_type": "code",
   "execution_count": 1,
   "metadata": {},
   "outputs": [],
   "source": [
    "import Analysis_new as analysis\n",
    "from tqdm import tqdm\n",
    "import Graph_MSE as graph\n",
    "import pandas as pd"
   ]
  },
  {
   "cell_type": "code",
   "execution_count": 2,
   "metadata": {},
   "outputs": [],
   "source": [
    "p_list = [20, 30, 40, 50]\n",
    "n_list=[500, 1000, 2000, 3000, 4000]"
   ]
  },
  {
   "cell_type": "markdown",
   "metadata": {},
   "source": [
    "Linear - Low Correlation setting"
   ]
  },
  {
   "cell_type": "code",
   "execution_count": 3,
   "metadata": {},
   "outputs": [
    {
     "name": "stderr",
     "output_type": "stream",
     "text": [
      "  0%|          | 0/4 [00:00<?, ?it/s]"
     ]
    },
    {
     "name": "stdout",
     "output_type": "stream",
     "text": [
      "Current p is 20 and current estimator is OLS\n",
      "Current p is 20 and current estimator is T-Learner\n",
      "Current p is 20 and current estimator is HRF\n",
      "{'HRF': {'500': 0.336, '1000': 0.284, '2000': 0.362, '3000': 0.262, '4000': 0.244}}\n",
      "Current p is 20 and current estimator is CF DML\n",
      "{'HRF': {'500': 0.336, '1000': 0.284, '2000': 0.362, '3000': 0.262, '4000': 0.244}, 'CF DML': {'500': 0.696, '1000': 0.596, '2000': 0.724, '3000': 0.7793333333333333, '4000': 0.7135}}\n",
      "Current p is 20 and current estimator is GRF\n"
     ]
    },
    {
     "name": "stderr",
     "output_type": "stream",
     "text": [
      " 25%|██▌       | 1/4 [10:30<31:32, 630.96s/it]"
     ]
    },
    {
     "name": "stdout",
     "output_type": "stream",
     "text": [
      "{'HRF': {'500': 0.336, '1000': 0.284, '2000': 0.362, '3000': 0.262, '4000': 0.244}, 'CF DML': {'500': 0.696, '1000': 0.596, '2000': 0.724, '3000': 0.7793333333333333, '4000': 0.7135}, 'GRF': {'500': 0.792, '1000': 0.658, '2000': 0.817, '3000': 0.752, '4000': 0.806}}\n",
      "Current p is 30 and current estimator is OLS\n",
      "Current p is 30 and current estimator is T-Learner\n",
      "Current p is 30 and current estimator is HRF\n",
      "{'HRF': {'500': 0.304, '1000': 0.282, '2000': 0.275, '3000': 0.22066666666666668, '4000': 0.251}}\n",
      "Current p is 30 and current estimator is CF DML\n",
      "{'HRF': {'500': 0.304, '1000': 0.282, '2000': 0.275, '3000': 0.22066666666666668, '4000': 0.251}, 'CF DML': {'500': 0.416, '1000': 0.566, '2000': 0.718, '3000': 0.7726666666666666, '4000': 0.741}}\n",
      "Current p is 30 and current estimator is GRF\n"
     ]
    },
    {
     "name": "stderr",
     "output_type": "stream",
     "text": [
      " 50%|█████     | 2/4 [25:07<25:50, 775.19s/it]"
     ]
    },
    {
     "name": "stdout",
     "output_type": "stream",
     "text": [
      "{'HRF': {'500': 0.304, '1000': 0.282, '2000': 0.275, '3000': 0.22066666666666668, '4000': 0.251}, 'CF DML': {'500': 0.416, '1000': 0.566, '2000': 0.718, '3000': 0.7726666666666666, '4000': 0.741}, 'GRF': {'500': 0.76, '1000': 0.62, '2000': 0.672, '3000': 0.8053333333333333, '4000': 0.8185}}\n",
      "Current p is 40 and current estimator is OLS\n",
      "Current p is 40 and current estimator is T-Learner\n"
     ]
    }
   ],
   "source": [
    "p_dict_mse= {}\n",
    "p_dict_coverage = {}\n",
    "estimator_list = ['OLS', 'T-Learner', 'HRF', 'CF DML', 'GRF']\n",
    "\n",
    "for p in tqdm(p_list):\n",
    "    \n",
    "    estimator_dict_mse = {}\n",
    "    estimator_dict_coverage = {}\n",
    "\n",
    "    for estimator in estimator_list:\n",
    "            print(f'Current p is {p} and current estimator is {estimator}')\n",
    "            key_est = f'{estimator}'\n",
    "\n",
    "            if estimator=='OLS' or estimator == 'T-Learner':\n",
    "                mse_simulation = analysis.mse_ci_analysis(p=p, mean_correlation=0.1, n_list=n_list, estimator=estimator)\n",
    "\n",
    "            else:\n",
    "                mse_simulation, coverage_dict = analysis.mse_ci_analysis(p=p, mean_correlation=0.1, n_list=n_list, estimator=estimator)\n",
    "                estimator_dict_coverage[key_est] = coverage_dict\n",
    "                print(estimator_dict_coverage)\n",
    "\n",
    "            estimator_dict_mse[key_est] = mse_simulation\n",
    "\n",
    "    key_p = f'{p}'\n",
    "    p_dict_mse[key_p] = estimator_dict_mse\n",
    "    p_dict_coverage[key_p] = estimator_dict_coverage"
   ]
  },
  {
   "cell_type": "code",
   "execution_count": null,
   "metadata": {},
   "outputs": [],
   "source": [
    "mse_20_features_linear = p_dict_mse['20']\n",
    "mse_30_features_linear = p_dict_mse['30']\n",
    "mse_40_features_linear = p_dict_mse['40']\n",
    "mse_50_features_linear = p_dict_mse['50']"
   ]
  },
  {
   "cell_type": "code",
   "execution_count": null,
   "metadata": {},
   "outputs": [],
   "source": [
    "mse_list = [mse_20_features_linear, mse_30_features_linear, mse_40_features_linear, mse_50_features_linear]\n",
    "graph.plot_mse_analysis_test(mse_list, p_list)"
   ]
  },
  {
   "cell_type": "code",
   "execution_count": null,
   "metadata": {},
   "outputs": [],
   "source": [
    "coverage_df = analysis.create_coverage_df(p_dict_coverage)"
   ]
  },
  {
   "cell_type": "markdown",
   "metadata": {},
   "source": [
    "Linear - Medium Correlation Setting"
   ]
  },
  {
   "cell_type": "code",
   "execution_count": null,
   "metadata": {},
   "outputs": [],
   "source": []
  }
 ],
 "metadata": {
  "kernelspec": {
   "display_name": "Python 3",
   "language": "python",
   "name": "python3"
  },
  "language_info": {
   "codemirror_mode": {
    "name": "ipython",
    "version": 3
   },
   "file_extension": ".py",
   "mimetype": "text/x-python",
   "name": "python",
   "nbconvert_exporter": "python",
   "pygments_lexer": "ipython3",
   "version": "3.12.3"
  }
 },
 "nbformat": 4,
 "nbformat_minor": 2
}

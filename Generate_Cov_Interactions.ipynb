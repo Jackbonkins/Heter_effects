{
 "cells": [
  {
   "cell_type": "code",
   "execution_count": 8,
   "metadata": {},
   "outputs": [],
   "source": [
    "import numpy as np\n",
    "import pandas as pd\n",
    "from Generate_Covariates import gen_cov_matrix, gen_covariates"
   ]
  },
  {
   "cell_type": "code",
   "execution_count": 2,
   "metadata": {},
   "outputs": [],
   "source": [
    "N = 5000\n",
    "p = 100\n",
    "\n",
    "covariates = gen_covariates(p, gen_cov_matrix(p), N)"
   ]
  },
  {
   "cell_type": "markdown",
   "metadata": {},
   "source": [
    "Generate Interaction Between the Covariates (Mu_0(x))"
   ]
  },
  {
   "cell_type": "code",
   "execution_count": null,
   "metadata": {},
   "outputs": [],
   "source": [
    "def gen_cov_interactions(covariates, no_interactions):\n",
    "\n",
    "    first_x = covariates.columns[ :no_interactions]\n",
    "\n",
    "    i = 0\n",
    "    interactions_df = pd.DataFrame()\n",
    "\n",
    "    #Loop over the first x variables in the covariate data frame\n",
    "    for variable in first_x:\n",
    "        if i % 2 == 0:\n",
    "            temp_even = covariates[variable] \n",
    "        else:\n",
    "            temp_uneven = covariates[variable]\n",
    "            interactions_df.insert(0, f'X{i-1}_X{i}', temp_even*temp_uneven)    \n",
    "        \n",
    "        i += 1\n",
    "\n",
    "    return interactions_df\n",
    "\n",
    "\n",
    "gen_cov_interactions(covariates, 50)"
   ]
  }
 ],
 "metadata": {
  "kernelspec": {
   "display_name": "base",
   "language": "python",
   "name": "python3"
  },
  "language_info": {
   "codemirror_mode": {
    "name": "ipython",
    "version": 3
   },
   "file_extension": ".py",
   "mimetype": "text/x-python",
   "name": "python",
   "nbconvert_exporter": "python",
   "pygments_lexer": "ipython3",
   "version": "3.10.13"
  }
 },
 "nbformat": 4,
 "nbformat_minor": 2
}

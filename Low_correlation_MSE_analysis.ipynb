{
 "cells": [
  {
   "cell_type": "code",
   "execution_count": 21,
   "metadata": {},
   "outputs": [],
   "source": [
    "from __future__ import annotations\n",
    "import MSE_Analysis_new as mse\n",
    "import matplotlib.pyplot as plt\n",
    "from tqdm import tqdm"
   ]
  },
  {
   "cell_type": "code",
   "execution_count": 22,
   "metadata": {},
   "outputs": [
    {
     "name": "stderr",
     "output_type": "stream",
     "text": [
      "  0%|          | 0/4 [00:00<?, ?it/s]"
     ]
    }
   ],
   "source": [
    "p_dict= {}\n",
    "estimator_list = ['OLS', 'T-Learner', 'CF DML', 'X-Learner', 'GRF']\n",
    "\n",
    "for p in tqdm([20, 30, 40, 50]):\n",
    "    \n",
    "    estimator_dict = {}\n",
    "\n",
    "    for estimator in estimator_list:\n",
    "\n",
    "            mse_simulation = mse.mse_analysis(p=p, mean_correlation=0.1, n_list=[500, 1000, 2000, 3000, 4000], estimator=estimator)\n",
    "            key_est = f'{estimator}'\n",
    "            estimator_dict[key_est] = mse_simulation\n",
    "\n",
    "    key_p = f'{p}'\n",
    "    p_dict[key_p] = estimator_dict\n",
    "\n",
    "    \n",
    "\n"
   ]
  },
  {
   "cell_type": "code",
   "execution_count": 20,
   "metadata": {},
   "outputs": [
    {
     "data": {
      "text/plain": [
       "{'OLS':       n  MSE Test  MSE Train\n",
       " 0   500  4.724636   4.403405\n",
       " 1  1000  1.713130   1.870863,\n",
       " 'T-Learner':       n   MSE Test  MSE Train\n",
       " 0   500  14.126719   17.07359\n",
       " 1  1000   5.662082    5.76691}"
      ]
     },
     "execution_count": 20,
     "metadata": {},
     "output_type": "execute_result"
    }
   ],
   "source": [
    "mse_20_features = p_dict['20']\n",
    "mse_30_features = p_dict['30']\n",
    "mse_40_features = p_dict['40']\n",
    "mse_50_features = p_dict['50']"
   ]
  },
  {
   "cell_type": "code",
   "execution_count": null,
   "metadata": {},
   "outputs": [],
   "source": [
    "plt.style.use('seaborn-v0_8')\n",
    "plt.scatter(mse_ols['n'], mse_ols['MSE Test'], alpha=0.5, color='red', label='OLS')\n",
    "#plt.scatter(mse_t['n'], mse_t['MSE Test'], alpha=0.5, color='green', label='T-Learner')\n",
    "#plt.scatter(mse_cf_dml['n'], mse_cf_dml['MSE Test'], alpha=0.5, color='blue', label='Causal Forest DML')\n",
    "#plt.scatter(mse_x['n'], mse_x['MSE Test'], alpha=0.5, color='purple', label='X-Learner')\n",
    "#plt.scatter(mse_grf['n'], mse_grf['MSE Test'], alpha=0.5, color='grey', label='Generalized Random Forest')\n",
    "\n",
    "\n",
    "# Set the x-ticks and y-ticks\n",
    "#plt.xticks([])\n",
    "# Set labels and legend\n",
    "plt.xlabel('No. of Observations')\n",
    "plt.ylabel('MSE Test')\n",
    "plt.title('p = 20')\n",
    "plt.legend()\n",
    "\n",
    "# Show the plot\n",
    "plt.show()"
   ]
  },
  {
   "cell_type": "code",
   "execution_count": null,
   "metadata": {},
   "outputs": [],
   "source": [
    "for estimator in estimator_list:\n",
    "    plt.scatter()"
   ]
  }
 ],
 "metadata": {
  "kernelspec": {
   "display_name": "Python 3",
   "language": "python",
   "name": "python3"
  },
  "language_info": {
   "codemirror_mode": {
    "name": "ipython",
    "version": 3
   },
   "file_extension": ".py",
   "mimetype": "text/x-python",
   "name": "python",
   "nbconvert_exporter": "python",
   "pygments_lexer": "ipython3",
   "version": "3.12.3"
  }
 },
 "nbformat": 4,
 "nbformat_minor": 2
}

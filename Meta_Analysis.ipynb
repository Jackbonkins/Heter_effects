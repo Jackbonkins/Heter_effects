{
 "cells": [
  {
   "cell_type": "code",
   "execution_count": 25,
   "metadata": {},
   "outputs": [],
   "source": [
    "import Analysis_new as analysis\n",
    "import pandas as pd\n",
    "import pickle"
   ]
  },
  {
   "cell_type": "code",
   "execution_count": 26,
   "metadata": {},
   "outputs": [],
   "source": [
    "p_list = [20, 30, 40, 50]\n",
    "n_list=[500, 1000, 2000, 3000, 4000]"
   ]
  },
  {
   "cell_type": "code",
   "execution_count": 27,
   "metadata": {},
   "outputs": [],
   "source": [
    "def save_to_pkl(data_name, data):\n",
    "    with open(f'{data_name}.pkl', 'wb') as pickle_file:\n",
    "        pickle.dump(data, pickle_file)\n"
   ]
  },
  {
   "cell_type": "markdown",
   "metadata": {},
   "source": [
    "Linear Analysis"
   ]
  },
  {
   "cell_type": "code",
   "execution_count": null,
   "metadata": {},
   "outputs": [],
   "source": [
    "p_dict_mse, p_dict_coverage = analysis.get_mse_coverage(p_list, n_list, 0.1)\n",
    "\n",
    "data_dict = {'mse_20_low_features_linear': p_dict_mse['20'], 'mse_30_low_features_linear': p_dict_mse['30'], \n",
    "             'mse_40_low_features_linear': p_dict_mse['40'], 'mse_50_low_features_linear': p_dict_mse['50']}\n",
    "\n",
    "for data_name, data in data_dict.items():\n",
    "    save_to_pkl(data_name, data)\n",
    "    \n",
    "coverage_low_linear_df = analysis.create_coverage_df(p_dict_coverage)\n",
    "coverage_low_linear_df.to_excel('coverage_low_linear.xlsx')\n"
   ]
  },
  {
   "cell_type": "code",
   "execution_count": 20,
   "metadata": {},
   "outputs": [
    {
     "name": "stderr",
     "output_type": "stream",
     "text": [
      "  0%|          | 0/4 [00:00<?, ?it/s]"
     ]
    },
    {
     "name": "stdout",
     "output_type": "stream",
     "text": [
      "Current p is 20 and current estimator is OLS\n",
      "Current p is 20 and current estimator is T-Learner\n",
      "Current p is 20 and current estimator is HRF\n",
      "{'HRF': {'500': 0.1432, '1000': 0.1272, '2000': 0.1186, '3000': 0.142, '4000': 0.1418}}\n",
      "Current p is 20 and current estimator is CF DML\n",
      "{'HRF': {'500': 0.1432, '1000': 0.1272, '2000': 0.1186, '3000': 0.142, '4000': 0.1418}, 'CF DML': {'500': 0.6272, '1000': 0.5944, '2000': 0.7328, '3000': 0.7710666666666668, '4000': 0.8016}}\n",
      "Current p is 20 and current estimator is GRF\n"
     ]
    },
    {
     "name": "stderr",
     "output_type": "stream",
     "text": [
      " 25%|██▌       | 1/4 [18:26<55:18, 1106.23s/it]"
     ]
    },
    {
     "name": "stdout",
     "output_type": "stream",
     "text": [
      "{'HRF': {'500': 0.1432, '1000': 0.1272, '2000': 0.1186, '3000': 0.142, '4000': 0.1418}, 'CF DML': {'500': 0.6272, '1000': 0.5944, '2000': 0.7328, '3000': 0.7710666666666668, '4000': 0.8016}, 'GRF': {'500': 0.7192000000000001, '1000': 0.7632000000000001, '2000': 0.8240000000000001, '3000': 0.8013333333333333, '4000': 0.8429}}\n",
      "Current p is 30 and current estimator is OLS\n",
      "Current p is 30 and current estimator is T-Learner\n",
      "Current p is 30 and current estimator is HRF\n",
      "{'HRF': {'500': 0.15200000000000002, '1000': 0.132, '2000': 0.11699999999999999, '3000': 0.15266666666666667, '4000': 0.1345}}\n",
      "Current p is 30 and current estimator is CF DML\n",
      "{'HRF': {'500': 0.15200000000000002, '1000': 0.132, '2000': 0.11699999999999999, '3000': 0.15266666666666667, '4000': 0.1345}, 'CF DML': {'500': 0.5392, '1000': 0.6188, '2000': 0.67, '3000': 0.8124, '4000': 0.7997}}\n",
      "Current p is 30 and current estimator is GRF\n"
     ]
    },
    {
     "name": "stderr",
     "output_type": "stream",
     "text": [
      " 50%|█████     | 2/4 [43:17<44:25, 1332.91s/it]"
     ]
    },
    {
     "name": "stdout",
     "output_type": "stream",
     "text": [
      "{'HRF': {'500': 0.15200000000000002, '1000': 0.132, '2000': 0.11699999999999999, '3000': 0.15266666666666667, '4000': 0.1345}, 'CF DML': {'500': 0.5392, '1000': 0.6188, '2000': 0.67, '3000': 0.8124, '4000': 0.7997}, 'GRF': {'500': 0.7272000000000001, '1000': 0.7708, '2000': 0.7941999999999999, '3000': 0.8310666666666666, '4000': 0.8318999999999999}}\n",
      "Current p is 40 and current estimator is OLS\n",
      "Current p is 40 and current estimator is T-Learner\n",
      "Current p is 40 and current estimator is HRF\n",
      "{'HRF': {'500': 0.1584, '1000': 0.11120000000000001, '2000': 0.1106, '3000': 0.14253333333333335, '4000': 0.1427}}\n",
      "Current p is 40 and current estimator is CF DML\n"
     ]
    },
    {
     "name": "stderr",
     "output_type": "stream",
     "text": [
      "Objective did not converge. You might want to increase the number of iterations. Duality gap: 6.441715816567012, tolerance: 4.732064629516782\n"
     ]
    },
    {
     "name": "stdout",
     "output_type": "stream",
     "text": [
      "{'HRF': {'500': 0.1584, '1000': 0.11120000000000001, '2000': 0.1106, '3000': 0.14253333333333335, '4000': 0.1427}, 'CF DML': {'500': 0.4856, '1000': 0.5764, '2000': 0.6576000000000001, '3000': 0.7140000000000001, '4000': 0.7241}}\n",
      "Current p is 40 and current estimator is GRF\n"
     ]
    },
    {
     "name": "stderr",
     "output_type": "stream",
     "text": [
      " 75%|███████▌  | 3/4 [1:14:54<26:30, 1590.44s/it]"
     ]
    },
    {
     "name": "stdout",
     "output_type": "stream",
     "text": [
      "{'HRF': {'500': 0.1584, '1000': 0.11120000000000001, '2000': 0.1106, '3000': 0.14253333333333335, '4000': 0.1427}, 'CF DML': {'500': 0.4856, '1000': 0.5764, '2000': 0.6576000000000001, '3000': 0.7140000000000001, '4000': 0.7241}, 'GRF': {'500': 0.6832, '1000': 0.7687999999999999, '2000': 0.8172, '3000': 0.7993333333333333, '4000': 0.8465999999999999}}\n",
      "Current p is 50 and current estimator is OLS\n",
      "Current p is 50 and current estimator is T-Learner\n",
      "Current p is 50 and current estimator is HRF\n",
      "{'HRF': {'500': 0.16799999999999998, '1000': 0.1572, '2000': 0.14120000000000002, '3000': 0.15706666666666666, '4000': 0.15339999999999998}}\n",
      "Current p is 50 and current estimator is CF DML\n",
      "{'HRF': {'500': 0.16799999999999998, '1000': 0.1572, '2000': 0.14120000000000002, '3000': 0.15706666666666666, '4000': 0.15339999999999998}, 'CF DML': {'500': 0.4992, '1000': 0.6092, '2000': 0.6040000000000001, '3000': 0.6449333333333332, '4000': 0.7482}}\n",
      "Current p is 50 and current estimator is GRF\n"
     ]
    },
    {
     "name": "stderr",
     "output_type": "stream",
     "text": [
      "100%|██████████| 4/4 [1:53:06<00:00, 1696.63s/it]"
     ]
    },
    {
     "name": "stdout",
     "output_type": "stream",
     "text": [
      "{'HRF': {'500': 0.16799999999999998, '1000': 0.1572, '2000': 0.14120000000000002, '3000': 0.15706666666666666, '4000': 0.15339999999999998}, 'CF DML': {'500': 0.4992, '1000': 0.6092, '2000': 0.6040000000000001, '3000': 0.6449333333333332, '4000': 0.7482}, 'GRF': {'500': 0.6176, '1000': 0.7192000000000001, '2000': 0.7644, '3000': 0.8434666666666667, '4000': 0.8272}}\n"
     ]
    },
    {
     "name": "stderr",
     "output_type": "stream",
     "text": [
      "\n"
     ]
    }
   ],
   "source": [
    "p_dict_mse, p_dict_coverage = analysis.get_mse_coverage(p_list, n_list, 0.5)\n",
    "\n",
    "\n",
    "data_dict = {'mse_20_medium_features_linear': p_dict_mse['20'], 'mse_30_medium_features_linear': p_dict_mse['30'], \n",
    "             'mse_40_medium_features_linear': p_dict_mse['40'], 'mse_50_medium_features_linear': p_dict_mse['50']}\n",
    "\n",
    "for data_name, data in data_dict.items():\n",
    "    save_to_pkl(data_name, data)\n",
    "\n",
    "coverage_medium_linear_df = analysis.create_coverage_df(p_dict_coverage)   \n",
    "coverage_medium_linear_df.to_excel('coverage_medium_linear.xlsx')"
   ]
  },
  {
   "cell_type": "code",
   "execution_count": 21,
   "metadata": {},
   "outputs": [
    {
     "name": "stderr",
     "output_type": "stream",
     "text": [
      "  0%|          | 0/4 [00:00<?, ?it/s]"
     ]
    },
    {
     "name": "stdout",
     "output_type": "stream",
     "text": [
      "Current p is 20 and current estimator is OLS\n",
      "Current p is 20 and current estimator is T-Learner\n",
      "Current p is 20 and current estimator is HRF\n",
      "{'HRF': {'500': 0.0312, '1000': 0.046799999999999994, '2000': 0.07799999999999999, '3000': 0.07066666666666667, '4000': 0.0698}}\n",
      "Current p is 20 and current estimator is CF DML\n",
      "{'HRF': {'500': 0.0312, '1000': 0.046799999999999994, '2000': 0.07799999999999999, '3000': 0.07066666666666667, '4000': 0.0698}, 'CF DML': {'500': 0.5752, '1000': 0.7108000000000001, '2000': 0.7468, '3000': 0.8325333333333335, '4000': 0.7672}}\n",
      "Current p is 20 and current estimator is GRF\n"
     ]
    },
    {
     "name": "stderr",
     "output_type": "stream",
     "text": [
      " 25%|██▌       | 1/4 [18:26<55:20, 1106.91s/it]"
     ]
    },
    {
     "name": "stdout",
     "output_type": "stream",
     "text": [
      "{'HRF': {'500': 0.0312, '1000': 0.046799999999999994, '2000': 0.07799999999999999, '3000': 0.07066666666666667, '4000': 0.0698}, 'CF DML': {'500': 0.5752, '1000': 0.7108000000000001, '2000': 0.7468, '3000': 0.8325333333333335, '4000': 0.7672}, 'GRF': {'500': 0.8032, '1000': 0.8436, '2000': 0.8122, '3000': 0.8008, '4000': 0.8289}}\n",
      "Current p is 30 and current estimator is OLS\n",
      "Current p is 30 and current estimator is T-Learner\n",
      "Current p is 30 and current estimator is HRF\n",
      "{'HRF': {'500': 0.017599999999999998, '1000': 0.0436, '2000': 0.051000000000000004, '3000': 0.0612, '4000': 0.0799}}\n",
      "Current p is 30 and current estimator is CF DML\n",
      "{'HRF': {'500': 0.017599999999999998, '1000': 0.0436, '2000': 0.051000000000000004, '3000': 0.0612, '4000': 0.0799}, 'CF DML': {'500': 0.5, '1000': 0.6964, '2000': 0.7132000000000001, '3000': 0.7545333333333334, '4000': 0.6744000000000001}}\n",
      "Current p is 30 and current estimator is GRF\n"
     ]
    },
    {
     "name": "stderr",
     "output_type": "stream",
     "text": [
      " 50%|█████     | 2/4 [43:46<44:59, 1349.69s/it]"
     ]
    },
    {
     "name": "stdout",
     "output_type": "stream",
     "text": [
      "{'HRF': {'500': 0.017599999999999998, '1000': 0.0436, '2000': 0.051000000000000004, '3000': 0.0612, '4000': 0.0799}, 'CF DML': {'500': 0.5, '1000': 0.6964, '2000': 0.7132000000000001, '3000': 0.7545333333333334, '4000': 0.6744000000000001}, 'GRF': {'500': 0.74, '1000': 0.7876000000000001, '2000': 0.8, '3000': 0.8206666666666667, '4000': 0.8413}}\n",
      "Current p is 40 and current estimator is OLS\n",
      "Current p is 40 and current estimator is T-Learner\n",
      "Current p is 40 and current estimator is HRF\n",
      "{'HRF': {'500': 0.0648, '1000': 0.05159999999999999, '2000': 0.0522, '3000': 0.0808, '4000': 0.09480000000000002}}\n",
      "Current p is 40 and current estimator is CF DML\n",
      "{'HRF': {'500': 0.0648, '1000': 0.05159999999999999, '2000': 0.0522, '3000': 0.0808, '4000': 0.09480000000000002}, 'CF DML': {'500': 0.5712, '1000': 0.5804, '2000': 0.6452, '3000': 0.7650666666666667, '4000': 0.7321}}\n",
      "Current p is 40 and current estimator is GRF\n"
     ]
    },
    {
     "name": "stderr",
     "output_type": "stream",
     "text": [
      " 75%|███████▌  | 3/4 [1:15:57<26:55, 1615.12s/it]"
     ]
    },
    {
     "name": "stdout",
     "output_type": "stream",
     "text": [
      "{'HRF': {'500': 0.0648, '1000': 0.05159999999999999, '2000': 0.0522, '3000': 0.0808, '4000': 0.09480000000000002}, 'CF DML': {'500': 0.5712, '1000': 0.5804, '2000': 0.6452, '3000': 0.7650666666666667, '4000': 0.7321}, 'GRF': {'500': 0.7535999999999999, '1000': 0.7788000000000002, '2000': 0.8308, '3000': 0.8153333333333332, '4000': 0.818}}\n",
      "Current p is 50 and current estimator is OLS\n",
      "Current p is 50 and current estimator is T-Learner\n",
      "Current p is 50 and current estimator is HRF\n",
      "{'HRF': {'500': 0.0664, '1000': 0.0568, '2000': 0.07339999999999999, '3000': 0.09506666666666667, '4000': 0.08860000000000001}}\n",
      "Current p is 50 and current estimator is CF DML\n",
      "{'HRF': {'500': 0.0664, '1000': 0.0568, '2000': 0.07339999999999999, '3000': 0.09506666666666667, '4000': 0.08860000000000001}, 'CF DML': {'500': 0.6112, '1000': 0.6348, '2000': 0.6811999999999999, '3000': 0.7433333333333334, '4000': 0.7444}}\n",
      "Current p is 50 and current estimator is GRF\n"
     ]
    },
    {
     "name": "stderr",
     "output_type": "stream",
     "text": [
      "100%|██████████| 4/4 [1:55:20<00:00, 1730.15s/it]"
     ]
    },
    {
     "name": "stdout",
     "output_type": "stream",
     "text": [
      "{'HRF': {'500': 0.0664, '1000': 0.0568, '2000': 0.07339999999999999, '3000': 0.09506666666666667, '4000': 0.08860000000000001}, 'CF DML': {'500': 0.6112, '1000': 0.6348, '2000': 0.6811999999999999, '3000': 0.7433333333333334, '4000': 0.7444}, 'GRF': {'500': 0.7495999999999999, '1000': 0.7436, '2000': 0.7654, '3000': 0.8291999999999999, '4000': 0.8228}}\n"
     ]
    },
    {
     "name": "stderr",
     "output_type": "stream",
     "text": [
      "\n"
     ]
    }
   ],
   "source": [
    "p_dict_mse, p_dict_coverage = analysis.get_mse_coverage(p_list, n_list, 0.8)\n",
    "\n",
    "data_dict = {'mse_20_high_features_linear': p_dict_mse['20'], 'mse_30_high_features_linear': p_dict_mse['30'], \n",
    "             'mse_40_high_features_linear': p_dict_mse['40'], 'mse_50_high_features_linear': p_dict_mse['50']}\n",
    "\n",
    "for data_name, data in data_dict.items():\n",
    "    save_to_pkl(data_name, data)\n",
    "\n",
    "coverage_high_linear_df = analysis.create_coverage_df(p_dict_coverage)\n",
    "coverage_high_linear_df.to_excel('coverage_high_linear.xlsx')\n"
   ]
  },
  {
   "cell_type": "code",
   "execution_count": null,
   "metadata": {},
   "outputs": [],
   "source": [
    "Quadratic Analysis"
   ]
  },
  {
   "cell_type": "code",
   "execution_count": 22,
   "metadata": {},
   "outputs": [
    {
     "name": "stderr",
     "output_type": "stream",
     "text": [
      "  0%|          | 0/4 [00:00<?, ?it/s]"
     ]
    },
    {
     "name": "stdout",
     "output_type": "stream",
     "text": [
      "Current p is 20 and current estimator is OLS\n",
      "Current p is 20 and current estimator is T-Learner\n",
      "Current p is 20 and current estimator is HRF\n",
      "{'HRF': {'500': 0.296, '1000': 0.3144, '2000': 0.29819999999999997, '3000': 0.26959999999999995, '4000': 0.27480000000000004}}\n",
      "Current p is 20 and current estimator is CF DML\n",
      "{'HRF': {'500': 0.296, '1000': 0.3144, '2000': 0.29819999999999997, '3000': 0.26959999999999995, '4000': 0.27480000000000004}, 'CF DML': {'500': 0.3983999999999999, '1000': 0.5107999999999999, '2000': 0.529, '3000': 0.6026666666666667, '4000': 0.6152}}\n",
      "Current p is 20 and current estimator is GRF\n"
     ]
    },
    {
     "name": "stderr",
     "output_type": "stream",
     "text": [
      " 25%|██▌       | 1/4 [19:47<59:21, 1187.25s/it]"
     ]
    },
    {
     "name": "stdout",
     "output_type": "stream",
     "text": [
      "{'HRF': {'500': 0.296, '1000': 0.3144, '2000': 0.29819999999999997, '3000': 0.26959999999999995, '4000': 0.27480000000000004}, 'CF DML': {'500': 0.3983999999999999, '1000': 0.5107999999999999, '2000': 0.529, '3000': 0.6026666666666667, '4000': 0.6152}, 'GRF': {'500': 0.356, '1000': 0.5516000000000001, '2000': 0.6368, '3000': 0.6369333333333332, '4000': 0.5744}}\n",
      "Current p is 30 and current estimator is OLS\n",
      "Current p is 30 and current estimator is T-Learner\n",
      "Current p is 30 and current estimator is HRF\n",
      "{'HRF': {'500': 0.2952, '1000': 0.2772, '2000': 0.29379999999999995, '3000': 0.27186666666666665, '4000': 0.2596}}\n",
      "Current p is 30 and current estimator is CF DML\n",
      "{'HRF': {'500': 0.2952, '1000': 0.2772, '2000': 0.29379999999999995, '3000': 0.27186666666666665, '4000': 0.2596}, 'CF DML': {'500': 0.33599999999999997, '1000': 0.4508, '2000': 0.5184, '3000': 0.5576, '4000': 0.6174999999999999}}\n",
      "Current p is 30 and current estimator is GRF\n"
     ]
    },
    {
     "name": "stderr",
     "output_type": "stream",
     "text": [
      " 50%|█████     | 2/4 [46:23<47:35, 1427.75s/it]"
     ]
    },
    {
     "name": "stdout",
     "output_type": "stream",
     "text": [
      "{'HRF': {'500': 0.2952, '1000': 0.2772, '2000': 0.29379999999999995, '3000': 0.27186666666666665, '4000': 0.2596}, 'CF DML': {'500': 0.33599999999999997, '1000': 0.4508, '2000': 0.5184, '3000': 0.5576, '4000': 0.6174999999999999}, 'GRF': {'500': 0.38639999999999997, '1000': 0.5319999999999999, '2000': 0.5850000000000001, '3000': 0.6025333333333334, '4000': 0.5999000000000001}}\n",
      "Current p is 40 and current estimator is OLS\n",
      "Current p is 40 and current estimator is T-Learner\n",
      "Current p is 40 and current estimator is HRF\n",
      "{'HRF': {'500': 0.29200000000000004, '1000': 0.28040000000000004, '2000': 0.30419999999999997, '3000': 0.28959999999999997, '4000': 0.277}}\n",
      "Current p is 40 and current estimator is CF DML\n",
      "{'HRF': {'500': 0.29200000000000004, '1000': 0.28040000000000004, '2000': 0.30419999999999997, '3000': 0.28959999999999997, '4000': 0.277}, 'CF DML': {'500': 0.3184, '1000': 0.422, '2000': 0.511, '3000': 0.584, '4000': 0.5690000000000001}}\n",
      "Current p is 40 and current estimator is GRF\n"
     ]
    },
    {
     "name": "stderr",
     "output_type": "stream",
     "text": [
      " 75%|███████▌  | 3/4 [1:19:45<28:10, 1690.10s/it]"
     ]
    },
    {
     "name": "stdout",
     "output_type": "stream",
     "text": [
      "{'HRF': {'500': 0.29200000000000004, '1000': 0.28040000000000004, '2000': 0.30419999999999997, '3000': 0.28959999999999997, '4000': 0.277}, 'CF DML': {'500': 0.3184, '1000': 0.422, '2000': 0.511, '3000': 0.584, '4000': 0.5690000000000001}, 'GRF': {'500': 0.34, '1000': 0.5144, '2000': 0.535, '3000': 0.5762666666666667, '4000': 0.5779}}\n",
      "Current p is 50 and current estimator is OLS\n",
      "Current p is 50 and current estimator is T-Learner\n",
      "Current p is 50 and current estimator is HRF\n",
      "{'HRF': {'500': 0.2672, '1000': 0.2796, '2000': 0.2774, '3000': 0.24493333333333336, '4000': 0.2904}}\n",
      "Current p is 50 and current estimator is CF DML\n",
      "{'HRF': {'500': 0.2672, '1000': 0.2796, '2000': 0.2774, '3000': 0.24493333333333336, '4000': 0.2904}, 'CF DML': {'500': 0.36479999999999996, '1000': 0.426, '2000': 0.49160000000000004, '3000': 0.5446666666666667, '4000': 0.6013000000000001}}\n",
      "Current p is 50 and current estimator is GRF\n"
     ]
    },
    {
     "name": "stderr",
     "output_type": "stream",
     "text": [
      "100%|██████████| 4/4 [2:00:46<00:00, 1811.57s/it]"
     ]
    },
    {
     "name": "stdout",
     "output_type": "stream",
     "text": [
      "{'HRF': {'500': 0.2672, '1000': 0.2796, '2000': 0.2774, '3000': 0.24493333333333336, '4000': 0.2904}, 'CF DML': {'500': 0.36479999999999996, '1000': 0.426, '2000': 0.49160000000000004, '3000': 0.5446666666666667, '4000': 0.6013000000000001}, 'GRF': {'500': 0.3264, '1000': 0.5044, '2000': 0.5695999999999999, '3000': 0.5780000000000001, '4000': 0.5894}}\n"
     ]
    },
    {
     "name": "stderr",
     "output_type": "stream",
     "text": [
      "\n"
     ]
    }
   ],
   "source": [
    "p_dict_mse, p_dict_coverage = analysis.get_mse_coverage(p_list, n_list, 0.1, function='quadratic')\n",
    "\n",
    "data_dict = {'mse_20_low_features_quadratic': p_dict_mse['20'], 'mse_30_low_features_quadratic': p_dict_mse['30'], \n",
    "             'mse_40_low_features_quadratic': p_dict_mse['40'], 'mse_50_low_features_quadratic': p_dict_mse['50']}\n",
    "\n",
    "for data_name, data in data_dict.items():\n",
    "    save_to_pkl(data_name, data)\n",
    "\n",
    "coverage_low_quadratic_df = analysis.create_coverage_df(p_dict_coverage)\n",
    "coverage_low_quadratic_df.to_excel('coverage_low_quadratic.xlsx')"
   ]
  },
  {
   "cell_type": "code",
   "execution_count": 23,
   "metadata": {},
   "outputs": [
    {
     "name": "stderr",
     "output_type": "stream",
     "text": [
      "  0%|          | 0/4 [00:00<?, ?it/s]"
     ]
    },
    {
     "name": "stdout",
     "output_type": "stream",
     "text": [
      "Current p is 20 and current estimator is OLS\n",
      "Current p is 20 and current estimator is T-Learner\n",
      "Current p is 20 and current estimator is HRF\n",
      "{'HRF': {'500': 0.2496, '1000': 0.27680000000000005, '2000': 0.2824, '3000': 0.28240000000000004, '4000': 0.29710000000000003}}\n",
      "Current p is 20 and current estimator is CF DML\n",
      "{'HRF': {'500': 0.2496, '1000': 0.27680000000000005, '2000': 0.2824, '3000': 0.28240000000000004, '4000': 0.29710000000000003}, 'CF DML': {'500': 0.40800000000000003, '1000': 0.46440000000000003, '2000': 0.5761999999999999, '3000': 0.6122666666666666, '4000': 0.6427999999999999}}\n",
      "Current p is 20 and current estimator is GRF\n"
     ]
    },
    {
     "name": "stderr",
     "output_type": "stream",
     "text": [
      " 25%|██▌       | 1/4 [20:00<1:00:01, 1200.59s/it]"
     ]
    },
    {
     "name": "stdout",
     "output_type": "stream",
     "text": [
      "{'HRF': {'500': 0.2496, '1000': 0.27680000000000005, '2000': 0.2824, '3000': 0.28240000000000004, '4000': 0.29710000000000003}, 'CF DML': {'500': 0.40800000000000003, '1000': 0.46440000000000003, '2000': 0.5761999999999999, '3000': 0.6122666666666666, '4000': 0.6427999999999999}, 'GRF': {'500': 0.528, '1000': 0.7136000000000001, '2000': 0.6658, '3000': 0.7393333333333334, '4000': 0.7119}}\n",
      "Current p is 30 and current estimator is OLS\n",
      "Current p is 30 and current estimator is T-Learner\n",
      "Current p is 30 and current estimator is HRF\n",
      "{'HRF': {'500': 0.23679999999999998, '1000': 0.27, '2000': 0.28500000000000003, '3000': 0.2945333333333333, '4000': 0.2739}}\n",
      "Current p is 30 and current estimator is CF DML\n",
      "{'HRF': {'500': 0.23679999999999998, '1000': 0.27, '2000': 0.28500000000000003, '3000': 0.2945333333333333, '4000': 0.2739}, 'CF DML': {'500': 0.34800000000000003, '1000': 0.4928, '2000': 0.567, '3000': 0.5972, '4000': 0.6271}}\n",
      "Current p is 30 and current estimator is GRF\n"
     ]
    },
    {
     "name": "stderr",
     "output_type": "stream",
     "text": [
      " 50%|█████     | 2/4 [48:16<49:43, 1491.80s/it]  "
     ]
    },
    {
     "name": "stdout",
     "output_type": "stream",
     "text": [
      "{'HRF': {'500': 0.23679999999999998, '1000': 0.27, '2000': 0.28500000000000003, '3000': 0.2945333333333333, '4000': 0.2739}, 'CF DML': {'500': 0.34800000000000003, '1000': 0.4928, '2000': 0.567, '3000': 0.5972, '4000': 0.6271}, 'GRF': {'500': 0.5264, '1000': 0.6075999999999999, '2000': 0.6726, '3000': 0.6799999999999999, '4000': 0.6805}}\n",
      "Current p is 40 and current estimator is OLS\n",
      "Current p is 40 and current estimator is T-Learner\n",
      "Current p is 40 and current estimator is HRF\n",
      "{'HRF': {'500': 0.2632, '1000': 0.2472, '2000': 0.2852, '3000': 0.2848, '4000': 0.2733}}\n",
      "Current p is 40 and current estimator is CF DML\n"
     ]
    },
    {
     "name": "stderr",
     "output_type": "stream",
     "text": [
      "Objective did not converge. You might want to increase the number of iterations. Duality gap: 5.408228500498808, tolerance: 4.678606026949611\n",
      "Objective did not converge. You might want to increase the number of iterations. Duality gap: 6.900308792522992, tolerance: 6.018822489498638\n",
      "Objective did not converge. You might want to increase the number of iterations. Duality gap: 24.70309379317041, tolerance: 4.550366360872595\n"
     ]
    },
    {
     "name": "stdout",
     "output_type": "stream",
     "text": [
      "{'HRF': {'500': 0.2632, '1000': 0.2472, '2000': 0.2852, '3000': 0.2848, '4000': 0.2733}, 'CF DML': {'500': 0.332, '1000': 0.4072, '2000': 0.46840000000000004, '3000': 0.5578666666666667, '4000': 0.5945000000000001}}\n",
      "Current p is 40 and current estimator is GRF\n"
     ]
    },
    {
     "name": "stderr",
     "output_type": "stream",
     "text": [
      " 75%|███████▌  | 3/4 [1:24:24<30:00, 1800.83s/it]"
     ]
    },
    {
     "name": "stdout",
     "output_type": "stream",
     "text": [
      "{'HRF': {'500': 0.2632, '1000': 0.2472, '2000': 0.2852, '3000': 0.2848, '4000': 0.2733}, 'CF DML': {'500': 0.332, '1000': 0.4072, '2000': 0.46840000000000004, '3000': 0.5578666666666667, '4000': 0.5945000000000001}, 'GRF': {'500': 0.46959999999999996, '1000': 0.732, '2000': 0.6606, '3000': 0.6852, '4000': 0.6904}}\n",
      "Current p is 50 and current estimator is OLS\n",
      "Current p is 50 and current estimator is T-Learner\n",
      "Current p is 50 and current estimator is HRF\n",
      "{'HRF': {'500': 0.2472, '1000': 0.2392, '2000': 0.2786, '3000': 0.26639999999999997, '4000': 0.23440000000000003}}\n",
      "Current p is 50 and current estimator is CF DML\n",
      "{'HRF': {'500': 0.2472, '1000': 0.2392, '2000': 0.2786, '3000': 0.26639999999999997, '4000': 0.23440000000000003}, 'CF DML': {'500': 0.31999999999999995, '1000': 0.42800000000000005, '2000': 0.4842000000000001, '3000': 0.5877333333333332, '4000': 0.5726}}\n",
      "Current p is 50 and current estimator is GRF\n"
     ]
    },
    {
     "name": "stderr",
     "output_type": "stream",
     "text": [
      "100%|██████████| 4/4 [2:08:42<00:00, 1930.54s/it]"
     ]
    },
    {
     "name": "stdout",
     "output_type": "stream",
     "text": [
      "{'HRF': {'500': 0.2472, '1000': 0.2392, '2000': 0.2786, '3000': 0.26639999999999997, '4000': 0.23440000000000003}, 'CF DML': {'500': 0.31999999999999995, '1000': 0.42800000000000005, '2000': 0.4842000000000001, '3000': 0.5877333333333332, '4000': 0.5726}, 'GRF': {'500': 0.45120000000000005, '1000': 0.56, '2000': 0.6454, '3000': 0.7168, '4000': 0.6643}}\n"
     ]
    },
    {
     "name": "stderr",
     "output_type": "stream",
     "text": [
      "\n"
     ]
    }
   ],
   "source": [
    "p_dict_mse, p_dict_coverage = analysis.get_mse_coverage(p_list, n_list, 0.5, function='quadratic')\n",
    "\n",
    "data_dict = {'mse_20_medium_features_quadratic': p_dict_mse['20'], 'mse_30_medium_features_quadratic': p_dict_mse['30'], \n",
    "             'mse_40_medium_features_quadratic': p_dict_mse['40'], 'mse_50_medium_features_quadratic': p_dict_mse['50']}\n",
    "\n",
    "for data_name, data in data_dict.items():\n",
    "    save_to_pkl(data_name, data)\n",
    "\n",
    "coverage_medium_quadratic_df = analysis.create_coverage_df(p_dict_coverage)\n",
    "coverage_medium_quadratic_df.to_excel('coverage_medium_quadratic.xlsx')"
   ]
  },
  {
   "cell_type": "code",
   "execution_count": 28,
   "metadata": {},
   "outputs": [
    {
     "name": "stderr",
     "output_type": "stream",
     "text": [
      "  0%|          | 0/4 [00:00<?, ?it/s]"
     ]
    },
    {
     "name": "stdout",
     "output_type": "stream",
     "text": [
      "Current p is 20 and current estimator is OLS\n",
      "Current p is 20 and current estimator is T-Learner\n",
      "Current p is 20 and current estimator is HRF\n",
      "{'HRF': {'500': 0.2464, '1000': 0.23120000000000002, '2000': 0.2792, '3000': 0.2625333333333334, '4000': 0.26820000000000005}}\n",
      "Current p is 20 and current estimator is CF DML\n",
      "{'HRF': {'500': 0.2464, '1000': 0.23120000000000002, '2000': 0.2792, '3000': 0.2625333333333334, '4000': 0.26820000000000005}, 'CF DML': {'500': 0.4048, '1000': 0.5648, '2000': 0.5957999999999999, '3000': 0.6484, '4000': 0.6454000000000001}}\n",
      "Current p is 20 and current estimator is GRF\n"
     ]
    },
    {
     "name": "stderr",
     "output_type": "stream",
     "text": [
      " 25%|██▌       | 1/4 [47:34<2:22:44, 2854.78s/it]"
     ]
    },
    {
     "name": "stdout",
     "output_type": "stream",
     "text": [
      "{'HRF': {'500': 0.2464, '1000': 0.23120000000000002, '2000': 0.2792, '3000': 0.2625333333333334, '4000': 0.26820000000000005}, 'CF DML': {'500': 0.4048, '1000': 0.5648, '2000': 0.5957999999999999, '3000': 0.6484, '4000': 0.6454000000000001}, 'GRF': {'500': 0.632, '1000': 0.7788, '2000': 0.716, '3000': 0.7008, '4000': 0.7262}}\n",
      "Current p is 30 and current estimator is OLS\n",
      "Current p is 30 and current estimator is T-Learner\n",
      "Current p is 30 and current estimator is HRF\n",
      "{'HRF': {'500': 0.1944, '1000': 0.2392, '2000': 0.29639999999999994, '3000': 0.2502666666666667, '4000': 0.27490000000000003}}\n",
      "Current p is 30 and current estimator is CF DML\n",
      "{'HRF': {'500': 0.1944, '1000': 0.2392, '2000': 0.29639999999999994, '3000': 0.2502666666666667, '4000': 0.27490000000000003}, 'CF DML': {'500': 0.384, '1000': 0.504, '2000': 0.5357999999999998, '3000': 0.6204, '4000': 0.5955}}\n",
      "Current p is 30 and current estimator is GRF\n"
     ]
    },
    {
     "name": "stderr",
     "output_type": "stream",
     "text": [
      " 50%|█████     | 2/4 [1:22:35<1:20:22, 2411.02s/it]"
     ]
    },
    {
     "name": "stdout",
     "output_type": "stream",
     "text": [
      "{'HRF': {'500': 0.1944, '1000': 0.2392, '2000': 0.29639999999999994, '3000': 0.2502666666666667, '4000': 0.27490000000000003}, 'CF DML': {'500': 0.384, '1000': 0.504, '2000': 0.5357999999999998, '3000': 0.6204, '4000': 0.5955}, 'GRF': {'500': 0.6056, '1000': 0.7592000000000001, '2000': 0.7594, '3000': 0.7182666666666667, '4000': 0.7615000000000001}}\n",
      "Current p is 40 and current estimator is OLS\n",
      "Current p is 40 and current estimator is T-Learner\n",
      "Current p is 40 and current estimator is HRF\n",
      "{'HRF': {'500': 0.1952, '1000': 0.23159999999999997, '2000': 0.24300000000000002, '3000': 0.25293333333333334, '4000': 0.2774}}\n",
      "Current p is 40 and current estimator is CF DML\n",
      "{'HRF': {'500': 0.1952, '1000': 0.23159999999999997, '2000': 0.24300000000000002, '3000': 0.25293333333333334, '4000': 0.2774}, 'CF DML': {'500': 0.3864, '1000': 0.4875999999999999, '2000': 0.5032, '3000': 0.5685333333333332, '4000': 0.5572}}\n",
      "Current p is 40 and current estimator is GRF\n"
     ]
    },
    {
     "name": "stderr",
     "output_type": "stream",
     "text": [
      " 75%|███████▌  | 3/4 [1:58:43<38:20, 2300.03s/it]  "
     ]
    },
    {
     "name": "stdout",
     "output_type": "stream",
     "text": [
      "{'HRF': {'500': 0.1952, '1000': 0.23159999999999997, '2000': 0.24300000000000002, '3000': 0.25293333333333334, '4000': 0.2774}, 'CF DML': {'500': 0.3864, '1000': 0.4875999999999999, '2000': 0.5032, '3000': 0.5685333333333332, '4000': 0.5572}, 'GRF': {'500': 0.5824, '1000': 0.6744, '2000': 0.6986000000000001, '3000': 0.7190666666666666, '4000': 0.6695}}\n",
      "Current p is 50 and current estimator is OLS\n",
      "Current p is 50 and current estimator is T-Learner\n",
      "Current p is 50 and current estimator is HRF\n",
      "{'HRF': {'500': 0.2064, '1000': 0.2072, '2000': 0.2566, '3000': 0.27693333333333336, '4000': 0.27840000000000004}}\n",
      "Current p is 50 and current estimator is CF DML\n",
      "{'HRF': {'500': 0.2064, '1000': 0.2072, '2000': 0.2566, '3000': 0.27693333333333336, '4000': 0.27840000000000004}, 'CF DML': {'500': 0.32, '1000': 0.45120000000000005, '2000': 0.5065999999999999, '3000': 0.5569333333333333, '4000': 0.5842}}\n",
      "Current p is 50 and current estimator is GRF\n"
     ]
    },
    {
     "name": "stderr",
     "output_type": "stream",
     "text": [
      "100%|██████████| 4/4 [2:44:30<00:00, 2467.68s/it]"
     ]
    },
    {
     "name": "stdout",
     "output_type": "stream",
     "text": [
      "{'HRF': {'500': 0.2064, '1000': 0.2072, '2000': 0.2566, '3000': 0.27693333333333336, '4000': 0.27840000000000004}, 'CF DML': {'500': 0.32, '1000': 0.45120000000000005, '2000': 0.5065999999999999, '3000': 0.5569333333333333, '4000': 0.5842}, 'GRF': {'500': 0.5832, '1000': 0.7375999999999999, '2000': 0.6626, '3000': 0.7029333333333333, '4000': 0.7072}}\n"
     ]
    },
    {
     "name": "stderr",
     "output_type": "stream",
     "text": [
      "\n"
     ]
    }
   ],
   "source": [
    "p_dict_mse, p_dict_coverage = analysis.get_mse_coverage(p_list, n_list, 0.8, function='quadratic')\n",
    "\n",
    "data_dict = {'mse_20_high_features_quadratic': p_dict_mse['20'], 'mse_30_high_features_quadratic': p_dict_mse['30'], \n",
    "             'mse_40_high_features_quadratic': p_dict_mse['40'], 'mse_50_high_features_quadratic': p_dict_mse['50']}\n",
    "\n",
    "for data_name, data in data_dict.items():\n",
    "    save_to_pkl(data_name, data)\n",
    "\n",
    "coverage_high_quadratic_df = analysis.create_coverage_df(p_dict_coverage)\n",
    "coverage_high_quadratic_df.to_excel('coverage_high_quadratic.xlsx')"
   ]
  }
 ],
 "metadata": {
  "kernelspec": {
   "display_name": "Python 3",
   "language": "python",
   "name": "python3"
  },
  "language_info": {
   "codemirror_mode": {
    "name": "ipython",
    "version": 3
   },
   "file_extension": ".py",
   "mimetype": "text/x-python",
   "name": "python",
   "nbconvert_exporter": "python",
   "pygments_lexer": "ipython3",
   "version": "3.12.3"
  }
 },
 "nbformat": 4,
 "nbformat_minor": 2
}

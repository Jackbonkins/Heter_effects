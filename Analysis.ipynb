{
 "cells": [
  {
   "cell_type": "code",
   "execution_count": 2,
   "metadata": {},
   "outputs": [],
   "source": [
    "import numpy as np\n",
    "import pandas as pd\n",
    "from Gen_data import SimulationStudy\n",
    "import matplotlib.pyplot as plt\n",
    "from sklearn.linear_model import LinearRegression\n",
    "from econml.metalearners import SLearner\n",
    "from sklearn.model_selection import train_test_split\n",
    "from econml.dml import CausalForestDML, NonParamDML\n",
    "from sklearn.dummy import DummyClassifier\n",
    "from sklearn.ensemble import RandomForestRegressor\n",
    "from sklearn.preprocessing import PolynomialFeatures\n",
    "import shap"
   ]
  },
  {
   "cell_type": "markdown",
   "metadata": {},
   "source": [
    "Define Necessary Functions"
   ]
  },
  {
   "cell_type": "code",
   "execution_count": 3,
   "metadata": {},
   "outputs": [],
   "source": [
    "#Split into train and test set\n",
    "def get_split(simulation: pd.DataFrame) -> np.ndarray:\n",
    "    \n",
    "    train_df, test_df = train_test_split(simulation, test_size=0.5, random_state=42)\n",
    "\n",
    "    # Extract features and target variables for training\n",
    "    X_train = train_df[[col for col in simulation.columns if col.startswith('X')]].to_numpy()\n",
    "    T_train = train_df['T'].to_numpy()\n",
    "    Y_train = train_df['y'].to_numpy()\n",
    "\n",
    "    # Extract features and true CATE for testing\n",
    "    X_test = test_df[[col for col in simulation.columns if col.startswith('X')]].to_numpy()\n",
    "    T_test = test_df['T'].to_numpy()\n",
    "    y_test = test_df['y'].to_numpy()\n",
    "\n",
    "    true_cate_test = test_df['CATE'].to_numpy()\n",
    "\n",
    "    return train_df, test_df, X_train, Y_train, T_train, X_test, T_test, y_test, true_cate_test"
   ]
  },
  {
   "cell_type": "code",
   "execution_count": 4,
   "metadata": {},
   "outputs": [],
   "source": [
    "def vis_treatment_eff(simulation: pd.DataFrame):\n",
    "    sorted_cate = simulation[simulation['T'] == 1]\n",
    "    sorted_cate = sorted_cate.sort_values(by=['CATE'])\n",
    "    sorted_cate = sorted_cate[['CATE']]\n",
    "\n",
    "    x = np.linspace(0, len(sorted_cate), num=len(sorted_cate))\n",
    "    plt.scatter(x, sorted_cate, alpha=0.5)\n",
    "    #plt.plot(x, sorted_cate, color='red')\n",
    "    plt.xlabel('Observations')\n",
    "    plt.ylabel('Treatment Effects')"
   ]
  },
  {
   "cell_type": "code",
   "execution_count": 5,
   "metadata": {},
   "outputs": [],
   "source": [
    "def plot_predict_cate_corr(est_cate: np.array, true_cate_test: np.array):\n",
    "    \n",
    "    plt.figure(figsize=(8, 8))\n",
    "    plt.scatter(est_cate, true_cate_test, alpha=0.5)    \n",
    "    plt.plot([min(true_cate_test), max(true_cate_test)], [min(true_cate_test), max(true_cate_test)], '--', color='red')\n",
    "    plt.xlabel('Estimated CATE')\n",
    "    plt.ylabel('True CATE')\n",
    "    plt.grid(True)\n",
    "    plt.show()\n",
    "\n",
    "    est_cate=est_cate.reshape(-1, 1)\n",
    "    reg = LinearRegression().fit(est_cate, true_cate_test)\n",
    "    print(f'Correlation between true and predicted CATE: {reg.score(est_cate, true_cate_test)}')"
   ]
  },
  {
   "cell_type": "code",
   "execution_count": 6,
   "metadata": {},
   "outputs": [],
   "source": [
    "#Create simulation objects with low correlation but high feature numbers\n",
    "sim_dict = {}\n",
    "i = 1\n",
    "\n",
    "for p in [20, 50, 70, 100]:\n",
    "    for n in [5000, 7000, 10000]:\n",
    "        sim: SimulationStudy = SimulationStudy(p=p, mean_correlation=0.5, cor_variance=0.01, n=n, geom=True)\n",
    "        simulation = sim.create_dataset()\n",
    "\n",
    "\n",
    "        key = f'Simulation_{i}'\n",
    "        value = simulation\n",
    "\n",
    "        sim_dict[key]= value\n",
    "        i += 1\n"
   ]
  },
  {
   "cell_type": "code",
   "execution_count": 10,
   "metadata": {},
   "outputs": [
    {
     "name": "stdout",
     "output_type": "stream",
     "text": [
      "Simulation_1\n",
      "Simulation_2\n",
      "Simulation_3\n",
      "Simulation_4\n",
      "Simulation_5\n",
      "Simulation_6\n",
      "Simulation_7\n",
      "Simulation_8\n",
      "Simulation_9\n",
      "Simulation_10\n",
      "Simulation_11\n",
      "Simulation_12\n"
     ]
    }
   ],
   "source": [
    "for key in sim_dict.keys():\n",
    "    print(key)"
   ]
  },
  {
   "cell_type": "code",
   "execution_count": 7,
   "metadata": {},
   "outputs": [
    {
     "ename": "NameError",
     "evalue": "name 'Simulation_1' is not defined",
     "output_type": "error",
     "traceback": [
      "\u001b[1;31m---------------------------------------------------------------------------\u001b[0m",
      "\u001b[1;31mNameError\u001b[0m                                 Traceback (most recent call last)",
      "Cell \u001b[1;32mIn[7], line 1\u001b[0m\n\u001b[1;32m----> 1\u001b[0m train_df_1, test_df_1, X_train_1, Y_train_1, T_train_1, X_test_1, T_test_1, y_test_1, true_cate_test_1 \u001b[38;5;241m=\u001b[39m get_split(\u001b[43mSimulation_1\u001b[49m)\n\u001b[0;32m      2\u001b[0m train_df_2, test_df_2, X_train_2, Y_train_2, T_train_2, X_test_2, T_test_2, y_test_2, true_cate_test_2 \u001b[38;5;241m=\u001b[39m get_split(Simulation_2)\n\u001b[0;32m      3\u001b[0m train_df_3, test_df_3, X_train_3, Y_train_3, T_train_3, X_test_3, T_test_3, y_test_3, true_cate_test_3 \u001b[38;5;241m=\u001b[39m get_split(Simulation_3)\n",
      "\u001b[1;31mNameError\u001b[0m: name 'Simulation_1' is not defined"
     ]
    }
   ],
   "source": [
    "train_df_1, test_df_1, X_train_1, Y_train_1, T_train_1, X_test_1, T_test_1, y_test_1, true_cate_test_1 = get_split(Simulation_1)\n",
    "train_df_2, test_df_2, X_train_2, Y_train_2, T_train_2, X_test_2, T_test_2, y_test_2, true_cate_test_2 = get_split(Simulation_2)\n",
    "train_df_3, test_df_3, X_train_3, Y_train_3, T_train_3, X_test_3, T_test_3, y_test_3, true_cate_test_3 = get_split(Simulation_3)\n",
    "train_df_4, test_df_4, X_train_4, Y_train_4, T_train_4, X_test_4, T_test_4, y_test_4, true_cate_test_4 = get_split(Simulation_4)\n"
   ]
  },
  {
   "cell_type": "code",
   "execution_count": null,
   "metadata": {},
   "outputs": [
    {
     "data": {
      "image/png": "[encoded data removed]",
      "text/plain": [
       "<Figure size 640x480 with 1 Axes>"
      ]
     },
     "metadata": {},
     "output_type": "display_data"
    }
   ],
   "source": [
    "#Visualize Treatment Effects for ordered observations\n",
    "vis_treatment_eff(sim_dict['Simulation_1'])"
   ]
  },
  {
   "cell_type": "markdown",
   "metadata": {},
   "source": [
    "OLS Model"
   ]
  },
  {
   "cell_type": "code",
   "execution_count": null,
   "metadata": {},
   "outputs": [],
   "source": [
    "#Create OLS model\n",
    "#ols = LinearRegression()"
   ]
  },
  {
   "cell_type": "code",
   "execution_count": null,
   "metadata": {},
   "outputs": [],
   "source": [
    "#Estimate a fully feature-treatment interacted model\n",
    "#interaction_term = X_train_1 * T_train_1\n",
    "#X_train_ols = np.hstack([X_train_1, T_train_1, interaction_term])\n",
    "#ols.fit(X_train_ols, Y_train_1)\n",
    "\n",
    "#interaction_term_test = X_test_1 * T_test_1\n",
    "#X_test_ols = np.hstack([X_test_1, T_test_1, interaction_term_test])\n",
    "#est_error = (y_test_1 - ols.predict(X_test_ols))**2"
   ]
  },
  {
   "cell_type": "code",
   "execution_count": null,
   "metadata": {},
   "outputs": [],
   "source": [
    "#Cannot currently estimate CATE functions from OLS to compare with true CATEs\n",
    "#Treatment and control groups have different sizes\n",
    "\n",
    "#interaction_term_test = X_test_1 * T_test_1\n",
    "#X_test_ols = np.hstack([X_test_1, T_test_1, interaction_term_test])\n",
    "\n",
    "#treatment_col_index = sim_1.p\n",
    "\n",
    "# Generate treatment and control groups\n",
    "#treatment_group = X_test_ols[X_test_ols[:, treatment_col_index] == 1]\n",
    "#control_group = X_test_ols[X_test_ols[:, treatment_col_index] == 0]\n",
    "\n",
    "# Predict outcomes\n",
    "#pred_treatment = ols.predict(treatment_group)\n",
    "#pred_control = ols.predict(control_group)"
   ]
  },
  {
   "cell_type": "code",
   "execution_count": null,
   "metadata": {},
   "outputs": [],
   "source": [
    "#plt.figure(figsize=(8, 8))\n",
    "#plt.scatter(est_error, true_cate_test_1, alpha=0.5, label='OLS')\n",
    "#plt.plot([min(true_cate_test_1), max(true_cate_test_1)], [min(true_cate_test_1), max(true_cate_test_1)], '--', color='red')\n",
    "#plt.xlabel('OLS MSE')\n",
    "#plt.ylabel('True CATE')\n",
    "#plt.title('Estimated vs. True CATE')\n",
    "#plt.legend()\n",
    "#plt.grid(True)\n",
    "#plt.show()"
   ]
  },
  {
   "cell_type": "code",
   "execution_count": null,
   "metadata": {},
   "outputs": [],
   "source": [
    "#estimated_cate_ols=estimated_cate_ols.reshape(-1, 1)\n",
    "#true_cate_test=true_cate_test_1.reshape(-1,1)\n",
    "#reg = LinearRegression().fit(estimated_cate_ols, true_cate_test)\n",
    "#reg.score(estimated_cate_ols, true_cate_test)"
   ]
  },
  {
   "cell_type": "markdown",
   "metadata": {},
   "source": [
    "Causal Forest DML"
   ]
  },
  {
   "cell_type": "code",
   "execution_count": null,
   "metadata": {},
   "outputs": [],
   "source": [
    "\n",
    "\n",
    "#define model_t to reflect known treatment probabilities\n",
    "model_t = DummyClassifier()\n",
    "\n",
    "#Estimate the causal forest model\n",
    "est_cfdml = CausalForestDML(model_y='auto',\n",
    "                      model_t=model_t,\n",
    "                      discrete_treatment=True,\n",
    "                      cv=5,\n",
    "                      n_estimators=1000,\n",
    "                      #featurizer=PolynomialFeatures(degree=2),\n",
    "                      random_state=42,\n",
    "                      criterion='mse',\n",
    "                      honest=True)\n",
    "\n",
    "est_cfdml.fit(Y=Y_train_1, T=T_train_1, X=X_train_1, W=None, cache_values=True)\n",
    "estimated_cate = est_cfdml.effect(X_test_1)\n",
    "plot_predict_cate_corr(estimated_cate, true_cate_test_1)\n"
   ]
  },
  {
   "cell_type": "code",
   "execution_count": null,
   "metadata": {},
   "outputs": [],
   "source": []
  },
  {
   "cell_type": "markdown",
   "metadata": {},
   "source": [
    "Non-Parametric DML"
   ]
  },
  {
   "cell_type": "code",
   "execution_count": null,
   "metadata": {},
   "outputs": [],
   "source": [
    "est_npm = NonParamDML(\n",
    "    model_y='auto',\n",
    "    model_t=model_t,\n",
    "    model_final=RandomForestRegressor(),\n",
    "    cv = 5,\n",
    "    random_state = 42,\n",
    "    discrete_treatment=True,\n",
    ")\n",
    "est_npm.fit(Y=Y_train_1, T=T_train_1, X=X_train_1, W=None, cache_values=True)\n",
    "estimated_cate = est_npm.effect(X_test_1)\n",
    "plot_predict_cate_corr(estimated_cate, true_cate_test_1)\n"
   ]
  },
  {
   "cell_type": "markdown",
   "metadata": {},
   "source": [
    "S-Learner"
   ]
  },
  {
   "cell_type": "code",
   "execution_count": null,
   "metadata": {},
   "outputs": [],
   "source": [
    "s_learner = SLearner(overall_model=LinearRegression())  \n",
    "s_learner_model = s_learner.fit(Y=Y_train_1, T=T_train_1, X=X_train_1)\n",
    "pred_cate_s = s_learner_model.effect(X_test_1)\n",
    "plot_predict_cate_corr(pred_cate_s, true_cate_test_1)"
   ]
  }
 ],
 "metadata": {
  "kernelspec": {
   "display_name": "Python 3",
   "language": "python",
   "name": "python3"
  },
  "language_info": {
   "codemirror_mode": {
    "name": "ipython",
    "version": 3
   },
   "file_extension": ".py",
   "mimetype": "text/x-python",
   "name": "python",
   "nbconvert_exporter": "python",
   "pygments_lexer": "ipython3",
   "version": "3.12.3"
  }
 },
 "nbformat": 4,
 "nbformat_minor": 2
}

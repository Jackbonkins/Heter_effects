{
 "cells": [
  {
   "cell_type": "code",
   "execution_count": 1,
   "metadata": {},
   "outputs": [],
   "source": [
    "import Analysis_new as analysis\n",
    "import pandas as pd\n",
    "import pickle\n"
   ]
  },
  {
   "cell_type": "code",
   "execution_count": null,
   "metadata": {},
   "outputs": [],
   "source": [
    "'''\n",
    "\n",
    "Note: This file is used to compute all values for the RMSE analysis. All results used to create the RMSE figures and tables are saved in .pkl files.\n",
    "\n",
    "May take up to 12 hours to complete.\n",
    "\n",
    "\n",
    "'''"
   ]
  },
  {
   "cell_type": "code",
   "execution_count": 3,
   "metadata": {},
   "outputs": [],
   "source": [
    "#Specify a list of feature numbers and sample sizes for the RMSE simulation study\n",
    "p_list = [20, 30, 40, 50]\n",
    "n_list=[500, 1000, 2000, 4000, 6000, 8000]"
   ]
  },
  {
   "cell_type": "code",
   "execution_count": 4,
   "metadata": {},
   "outputs": [],
   "source": [
    "#Save all produced dictionaries into .pkl files\n",
    "def save_to_pkl(data_name: str, data: pd.DataFrame):\n",
    "    with open(f'{data_name}.pkl', 'wb') as pickle_file:\n",
    "        pickle.dump(data, pickle_file)\n"
   ]
  },
  {
   "cell_type": "markdown",
   "metadata": {},
   "source": [
    "Linear Analysis"
   ]
  },
  {
   "cell_type": "code",
   "execution_count": null,
   "metadata": {},
   "outputs": [],
   "source": [
    "#Calls the get_rmse function to estimate the RMSE values using p_list and n_list\n",
    "p_dict_mse = analysis.get_rmse(p_list, n_list, mean_correlation=0.1, no_feat_cate=3, estimators = ['OLS', 'T-Learner', 'GRF', 'CF DML'])\n",
    "\n",
    "#Saves the estimated values into a new dictionary with new file names\n",
    "data_dict = {'mse_20_low_features_linear': p_dict_mse['20'], 'mse_30_low_features_linear': p_dict_mse['30'], \n",
    "             'mse_40_low_features_linear': p_dict_mse['40'], 'mse_50_low_features_linear': p_dict_mse['50']}\n",
    "\n",
    "#Save the dictionary into .pkl files\n",
    "for data_name, data in data_dict.items():\n",
    "    save_to_pkl(data_name, data)\n",
    "    \n",
    "\n",
    "#Time elapsed to execute (29.08.2024): 143m 26.7s\n"
   ]
  },
  {
   "cell_type": "code",
   "execution_count": null,
   "metadata": {},
   "outputs": [],
   "source": [
    "#Calls the get_rmse function to estimate the RMSE values using p_list and n_list\n",
    "p_dict_mse = analysis.get_rmse(p_list, n_list, mean_correlation=0.5, no_feat_cate=3, estimators = ['OLS', 'T-Learner', 'GRF', 'CF DML'])\n",
    "\n",
    "#Saves the estimated values into a new dictionary with new file names\n",
    "data_dict = {'mse_20_medium_features_linear': p_dict_mse['20'], 'mse_30_medium_features_linear': p_dict_mse['30'], \n",
    "             'mse_40_medium_features_linear': p_dict_mse['40'], 'mse_50_medium_features_linear': p_dict_mse['50']}\n",
    "\n",
    "#Save the dictionary into .pkl files\n",
    "for data_name, data in data_dict.items():\n",
    "    save_to_pkl(data_name, data)\n",
    "\n",
    "#Time elapsed to execute (29.08.24): 149m 3.7s"
   ]
  },
  {
   "cell_type": "code",
   "execution_count": null,
   "metadata": {},
   "outputs": [],
   "source": [
    "#Calls the get_rmse function to estimate the RMSE values using p_list and n_list\n",
    "p_dict_mse = analysis.get_rmse(p_list, n_list, mean_correlation=0.8, no_feat_cate=3, estimators = ['OLS', 'T-Learner', 'GRF', 'CF DML'])\n",
    "\n",
    "#Saves the estimated values into a new dictionary with new file names\n",
    "data_dict = {'mse_20_high_features_linear': p_dict_mse['20'], 'mse_30_high_features_linear': p_dict_mse['30'], \n",
    "             'mse_40_high_features_linear': p_dict_mse['40'], 'mse_50_high_features_linear': p_dict_mse['50']}\n",
    "\n",
    "#Save the dictionary into .pkl files\n",
    "for data_name, data in data_dict.items():\n",
    "    save_to_pkl(data_name, data)\n",
    "\n",
    "#Time elapsed to execute (29.08.24): 150m 24.4s\n"
   ]
  },
  {
   "cell_type": "markdown",
   "metadata": {},
   "source": [
    "Quadratic Analysis"
   ]
  },
  {
   "cell_type": "code",
   "execution_count": null,
   "metadata": {},
   "outputs": [],
   "source": [
    "#Calls the get_rmse function to estimate the RMSE values using p_list and n_list\n",
    "p_dict_mse = analysis.get_rmse(p_list, n_list, mean_correlation=0.1, no_feat_cate=3, estimators = ['OLS', 'T-Learner', 'GRF', 'CF DML'], function='quadratic')\n",
    "\n",
    "#Saves the estimated values into a new dictionary with new file names\n",
    "data_dict = {'mse_20_low_features_quadratic': p_dict_mse['20'], 'mse_30_low_features_quadratic': p_dict_mse['30'], \n",
    "             'mse_40_low_features_quadratic': p_dict_mse['40'], 'mse_50_low_features_quadratic': p_dict_mse['50']}\n",
    "\n",
    "#Save the dictionary into .pkl files\n",
    "for data_name, data in data_dict.items():\n",
    "    save_to_pkl(data_name, data)\n",
    "\n",
    "\n",
    "#Time elapsed to execute (29.08.24): 176m 53.4s"
   ]
  },
  {
   "cell_type": "code",
   "execution_count": null,
   "metadata": {},
   "outputs": [],
   "source": [
    "#Calls the get_rmse function to estimate the RMSE values using p_list and n_list\n",
    "p_dict_mse = analysis.get_rmse(p_list, n_list, mean_correlation=0.5, no_feat_cate=3, estimators = ['OLS', 'T-Learner', 'GRF', 'CF DML'], function='quadratic')\n",
    "\n",
    "#Saves the estimated values into a new dictionary with new file names\n",
    "data_dict = {'mse_20_medium_features_quadratic': p_dict_mse['20'], 'mse_30_medium_features_quadratic': p_dict_mse['30'], \n",
    "             'mse_40_medium_features_quadratic': p_dict_mse['40'], 'mse_50_medium_features_quadratic': p_dict_mse['50']}\n",
    "\n",
    "#Save the dictionary into .pkl files\n",
    "for data_name, data in data_dict.items():\n",
    "    save_to_pkl(data_name, data)\n",
    "\n",
    "#Time elapsed to execute (29.08.24): 198m 9.4s"
   ]
  },
  {
   "cell_type": "code",
   "execution_count": null,
   "metadata": {},
   "outputs": [],
   "source": [
    "#Calls the get_rmse function to estimate the RMSE values using p_list and n_list\n",
    "p_dict_mse = analysis.get_rmse(p_list, n_list, mean_correlation=0.8, no_feat_cate=3, estimators = ['OLS', 'T-Learner', 'GRF', 'CF DML'], function='quadratic')\n",
    "\n",
    "#Saves the estimated values into a new dictionary with new file names\n",
    "data_dict = {'mse_20_high_features_quadratic': p_dict_mse['20'], 'mse_30_high_features_quadratic': p_dict_mse['30'], \n",
    "             'mse_40_high_features_quadratic': p_dict_mse['40'], 'mse_50_high_features_quadratic': p_dict_mse['50']}\n",
    "\n",
    "#Save the dictionary into .pkl files\n",
    "for data_name, data in data_dict.items():\n",
    "    save_to_pkl(data_name, data)\n",
    "\n",
    "#Time elapsed to execute (29.08.24): 188m 15.4s \n"
   ]
  }
 ],
 "metadata": {
  "kernelspec": {
   "display_name": "Python 3",
   "language": "python",
   "name": "python3"
  },
  "language_info": {
   "codemirror_mode": {
    "name": "ipython",
    "version": 3
   },
   "file_extension": ".py",
   "mimetype": "text/x-python",
   "name": "python",
   "nbconvert_exporter": "python",
   "pygments_lexer": "ipython3",
   "version": "3.12.3"
  }
 },
 "nbformat": 4,
 "nbformat_minor": 2
}

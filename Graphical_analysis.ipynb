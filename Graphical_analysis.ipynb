{
 "cells": [
  {
   "cell_type": "code",
   "execution_count": 1,
   "metadata": {},
   "outputs": [
    {
     "data": {
      "text/plain": [
       "'\\n\\nThis notebook is used to generate the RMSE tables and plots.\\n\\nFigures 3, 4, 5, 6, 7, B.4, and B.5\\nTables C.1, C.2, C.3, C.4, C.5, C.6, C.7, C.8\\n\\nTo exactly reproduce the figures and tables ensure that the RMSE Files folder is set in the same directory as this notebook.\\n\\n'"
      ]
     },
     "execution_count": 1,
     "metadata": {},
     "output_type": "execute_result"
    }
   ],
   "source": [
    "'''\n",
    "\n",
    "This notebook is used to generate the RMSE tables and plots.\n",
    "\n",
    "Figures 3, 4, 5, 6, 7, B.4, and B.5\n",
    "Tables C.1, C.2, C.3, C.4, C.5, C.6, C.7, C.8\n",
    "\n",
    "To exactly reproduce the figures and tables ensure that the RMSE Files folder is set in the same directory as this notebook.\n",
    "\n",
    "'''"
   ]
  },
  {
   "cell_type": "code",
   "execution_count": 2,
   "metadata": {},
   "outputs": [],
   "source": [
    "import pickle\n",
    "import Graph_MSE as plot\n",
    "import pandas as pd\n",
    "import matplotlib.pyplot as plt"
   ]
  },
  {
   "cell_type": "markdown",
   "metadata": {},
   "source": [
    "Graph MSE with Linear CATE"
   ]
  },
  {
   "cell_type": "code",
   "execution_count": 3,
   "metadata": {},
   "outputs": [],
   "source": [
    "#Create a list containing the .pkl file names\n",
    "mse_files_linear = ['mse_20_low_features_linear', 'mse_30_low_features_linear', 'mse_40_low_features_linear', 'mse_50_low_features_linear',\n",
    "                    'mse_20_medium_features_linear', 'mse_30_medium_features_linear', 'mse_40_medium_features_linear', 'mse_50_medium_features_linear',\n",
    "                    'mse_20_high_features_linear', 'mse_30_high_features_linear', 'mse_40_high_features_linear', 'mse_50_high_features_linear'\n",
    "                    ]\n"
   ]
  },
  {
   "cell_type": "code",
   "execution_count": 4,
   "metadata": {},
   "outputs": [],
   "source": [
    "#Load the .pkl files and create df dictionary with all values for the linear setting\n",
    "mse_dict_linear = {}\n",
    "for file_name in mse_files_linear:\n",
    "    with open(f'RMSE Files/{file_name}.pkl', 'rb') as file:\n",
    "        globals()[file_name] = pickle.load(file)\n",
    "\n",
    "    key = f'{file_name}'\n",
    "    mse_dict_linear[key] = globals()[file_name]\n",
    "\n"
   ]
  },
  {
   "cell_type": "code",
   "execution_count": 5,
   "metadata": {},
   "outputs": [],
   "source": [
    "#Plot RMSE and the relationship with correlation\n",
    "plot.plot_rmse_corr(mse_dict_linear)"
   ]
  },
  {
   "cell_type": "code",
   "execution_count": 6,
   "metadata": {},
   "outputs": [],
   "source": [
    "#Plot RMSE with OLS, linear\n",
    "plot.plot_rmse_analysis_test(mse_dict_linear, analysis_type='Linear', data='Test', estimators=['OLS', 'T-Learner', 'GRF', 'CF DML'])\n",
    "plot.plot_rmse_analysis_test(mse_dict_linear, analysis_type='Linear', data='Train', estimators=['OLS', 'T-Learner', 'GRF', 'CF DML'])\n"
   ]
  },
  {
   "cell_type": "code",
   "execution_count": 7,
   "metadata": {},
   "outputs": [],
   "source": [
    "#Plot RMSE without OLS, linear\n",
    "plot.plot_rmse_analysis_test(mse_dict_linear, analysis_type='Linear', data='Test', estimators=['T-Learner', 'GRF', 'CF DML'])\n",
    "plot.plot_rmse_analysis_test(mse_dict_linear, analysis_type='Linear', data='Train', estimators=['T-Learner', 'GRF', 'CF DML'])"
   ]
  },
  {
   "cell_type": "markdown",
   "metadata": {},
   "source": [
    "Graph MSE with Non-Linear CATE"
   ]
  },
  {
   "cell_type": "code",
   "execution_count": 8,
   "metadata": {},
   "outputs": [],
   "source": [
    "#Create a list containing the .pkl file names\n",
    "mse_files_quadratic = ['mse_20_low_features_quadratic', 'mse_30_low_features_quadratic', 'mse_40_low_features_quadratic', 'mse_50_low_features_quadratic',\n",
    "                       'mse_20_medium_features_quadratic', 'mse_30_medium_features_quadratic', 'mse_40_medium_features_quadratic', 'mse_50_medium_features_quadratic',\n",
    "                       'mse_20_high_features_quadratic', 'mse_30_high_features_quadratic', 'mse_40_high_features_quadratic', 'mse_50_high_features_quadratic'\n",
    "                      ]"
   ]
  },
  {
   "cell_type": "code",
   "execution_count": 9,
   "metadata": {},
   "outputs": [],
   "source": [
    "#Load the .pkl files and create df dictionary with all values for the non-linear setting\n",
    "mse_dict_quadratic = {}\n",
    "for file_name in mse_files_quadratic:\n",
    "    with open(f'RMSE Files/{file_name}.pkl', 'rb') as file:\n",
    "        globals()[file_name] = pickle.load(file)\n",
    "\n",
    "    key = f'{file_name}'\n",
    "    mse_dict_quadratic[key] = globals()[file_name]"
   ]
  },
  {
   "cell_type": "code",
   "execution_count": 10,
   "metadata": {},
   "outputs": [],
   "source": [
    "#Plot RMSE with OLS, quadratic\n",
    "plot.plot_rmse_analysis_test(mse_dict_quadratic, analysis_type='Quadratic', data='Test')\n",
    "plot.plot_rmse_analysis_test(mse_dict_quadratic, analysis_type='Quadratic', data='Train')"
   ]
  },
  {
   "cell_type": "code",
   "execution_count": 11,
   "metadata": {},
   "outputs": [],
   "source": [
    "#Plot RMSE Without OLS, quadratic\n",
    "plot.plot_rmse_analysis_test(mse_dict_quadratic, analysis_type='Quadratic', data='Test', estimators=['T-Learner', 'GRF', 'CF DML'])\n",
    "plot.plot_rmse_analysis_test(mse_dict_quadratic, analysis_type='Quadratic', data='Train', estimators=['T-Learner', 'GRF', 'CF DML'])\n"
   ]
  },
  {
   "cell_type": "markdown",
   "metadata": {},
   "source": [
    "Get RMSE Tables"
   ]
  },
  {
   "cell_type": "code",
   "execution_count": 12,
   "metadata": {},
   "outputs": [],
   "source": [
    "#Create the tables with the RMSE values\n",
    "def create_rmse_table(name, mse_dict):\n",
    "\n",
    "    setup_name = name\n",
    "    dfs = []\n",
    "\n",
    "    for model_name, df in mse_dict[setup_name].items():\n",
    "        df = df.rename(columns={'RMSE Test': f'{model_name} RMSE Test', 'RMSE Train': f'{model_name} RMSE Train'})\n",
    "        dfs.append(df)\n",
    "\n",
    "    merged_df = dfs[0]\n",
    "    for df in dfs[1:]:\n",
    "        merged_df = pd.merge(merged_df, df, on='n')\n",
    "\n",
    "    merged_df.to_excel(f'{setup_name}_Table.xlsx', index=False)\n",
    "    latex_table = merged_df.to_latex(index=False, float_format=\"%.3f\", caption=\"RMSE Comparison Across Models\", label=\"tab:rmse_comparison\")\n",
    "    \n",
    "    with open(f'{setup_name}_Table.tex', 'w') as f:\n",
    "        f.write(latex_table)\n",
    "\n",
    "    return merged_df\n",
    "\n",
    "\n",
    "for data_name in mse_dict_linear.keys():\n",
    "    create_rmse_table(data_name, mse_dict_linear)\n",
    "\n",
    "for data_name in mse_dict_quadratic.keys():\n",
    "    create_rmse_table(data_name, mse_dict_quadratic)"
   ]
  }
 ],
 "metadata": {
  "kernelspec": {
   "display_name": "Python 3",
   "language": "python",
   "name": "python3"
  },
  "language_info": {
   "codemirror_mode": {
    "name": "ipython",
    "version": 3
   },
   "file_extension": ".py",
   "mimetype": "text/x-python",
   "name": "python",
   "nbconvert_exporter": "python",
   "pygments_lexer": "ipython3",
   "version": "3.12.3"
  }
 },
 "nbformat": 4,
 "nbformat_minor": 2
}

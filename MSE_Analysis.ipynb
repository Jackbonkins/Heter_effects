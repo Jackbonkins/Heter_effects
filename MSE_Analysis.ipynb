{
 "cells": [
  {
   "cell_type": "code",
   "execution_count": 1,
   "metadata": {},
   "outputs": [],
   "source": [
    "from __future__ import annotations\n",
    "import numpy as np\n",
    "import pandas as pd\n",
    "from sklearn.model_selection import train_test_split\n",
    "#from Methods import EstimationMethods\n",
    "import Methods_new as method\n",
    "from Gen_data import SimulationStudy\n",
    "import matplotlib.pyplot as plt\n",
    "from tqdm import tqdm"
   ]
  },
  {
   "cell_type": "code",
   "execution_count": 2,
   "metadata": {},
   "outputs": [],
   "source": [
    "def get_split(simulation: pd.DataFrame) -> tuple[pd.DataFrame]:\n",
    "    \n",
    "    train_df, test_df = train_test_split(simulation, test_size=0.5, random_state=42)\n",
    "\n",
    "    # Extract features and target variables for training\n",
    "    X_train = train_df[[col for col in simulation.columns if col.startswith('X')]]\n",
    "    T_train = train_df['T']\n",
    "    Y_train = train_df['y']\n",
    "\n",
    "    # Extract features and true CATE for testing\n",
    "    X_test = test_df[[col for col in simulation.columns if col.startswith('X')]]\n",
    "    T_test = test_df['T']\n",
    "    y_test = test_df['y']\n",
    "\n",
    "    true_cate_train = train_df[['CATE', 'T']]\n",
    "    true_cate_test = test_df[['CATE', 'T']]\n",
    "\n",
    "    return train_df, test_df, X_train, Y_train, T_train, X_test, T_test, y_test, true_cate_train, true_cate_test"
   ]
  },
  {
   "cell_type": "code",
   "execution_count": 6,
   "metadata": {},
   "outputs": [],
   "source": [
    "n_list = [500, 1000, 2000, 3000, 4000]\n",
    "def mse_analysis(n_list: list,  ols: bool = False, t_learner: bool = False, cf_dml: bool = False, x_learner: bool = False, grf: bool = False) -> pd.DataFrame:\n",
    "    dict_test = {}\n",
    "    dict_train = {}\n",
    "\n",
    "    for n in tqdm(n_list):\n",
    "            \n",
    "        li_train = []\n",
    "        li_test = []\n",
    "\n",
    "        for i in range(4):\n",
    "\n",
    "            sim: SimulationStudy = SimulationStudy(p=20, mean_correlation=0.1, cor_variance=0.2, n=n, no_feat_cate=4, non_linear='linear')\n",
    "            simulation = sim.create_dataset()\n",
    "            train_df, test_df, X_train, Y_train, T_train, X_test, T_test, Y_test, true_cate_train, true_cate_test = get_split(simulation)\n",
    "            \n",
    "            \n",
    "            if ols is True:\n",
    "                estimated_cate_train, estimated_cate_test, MSE_train, MSE_test = method.ols_estimator(X_train, X_test, Y_train, T_train, T_test, true_cate_train, true_cate_test)\n",
    "            elif t_learner is True:\n",
    "                estimated_cate_train, estimated_cate_test, MSE_test, MSE_train = method.TLearner_estimator(Y_train, T_train, X_train, X_test, true_cate_train, true_cate_test)\n",
    "            elif cf_dml is True:\n",
    "                estimated_cate_train, estimated_cate_test, MSE_test, MSE_train = method.CF_DML(Y_train, T_train, X_train, X_test, true_cate_train, true_cate_test)\n",
    "            elif x_learner is True:\n",
    "                estimated_cate_train, estimated_cate_test, MSE_test, MSE_train = method.XLearner_estimator(Y_train, T_train, X_train, X_test, true_cate_train, true_cate_test)\n",
    "            elif grf is True:\n",
    "                estimated_cate_train, estimated_cate_test, MSE_test, MSE_train = method.GRF_estimator(Y_train, T_train, X_train, X_test, true_cate_train, true_cate_test)\n",
    "            else:\n",
    "                print('Choose either ols, t_learner, cf_dml, x_learner or grf')\n",
    "                \n",
    "            li_train.append(MSE_train)\n",
    "            li_test.append(MSE_test)\n",
    "\n",
    "        mse_train_mean = np.mean(np.array(li_train))\n",
    "        mse_test_mean = np.mean(np.array(li_test))\n",
    "            \n",
    "\n",
    "        key = f'{n}'\n",
    "        dict_test[key] = mse_test_mean\n",
    "        dict_train[key] = mse_train_mean\n",
    "\n",
    "        mse_df = pd.DataFrame()\n",
    "        mse_df['n'] = dict_test.keys()\n",
    "        mse_df['MSE Test'] = dict_test.values()\n",
    "        mse_df['MSE Train'] = dict_train.values()\n",
    "\n",
    "\n",
    "    return mse_df\n"
   ]
  },
  {
   "cell_type": "code",
   "execution_count": 7,
   "metadata": {},
   "outputs": [
    {
     "name": "stderr",
     "output_type": "stream",
     "text": [
      "100%|██████████| 5/5 [13:17<00:00, 159.50s/it]\n"
     ]
    }
   ],
   "source": [
    "#mse_ols = mse_analysis(ols=True)\n",
    "mse_t = mse_analysis(n_list, t_learner=True)\n",
    "#mse_cf_dml = mse_analysis(cf_dml=True)\n",
    "#mse_x = mse_analysis(x_learner=True)\n",
    "#mse_grf = mse_analysis(grf=True)\n"
   ]
  },
  {
   "cell_type": "code",
   "execution_count": 9,
   "metadata": {},
   "outputs": [
    {
     "data": {
      "image/png": "[encoded data removed]",
      "text/plain": [
       "<Figure size 800x550 with 1 Axes>"
      ]
     },
     "metadata": {},
     "output_type": "display_data"
    }
   ],
   "source": [
    "# Use the n values to set the ticks\n",
    "# Create the scatter plot\n",
    "plt.style.use('seaborn-v0_8')\n",
    "#plt.scatter(mse_ols['n'], mse_ols['MSE Test'], alpha=0.5, color='red', label='OLS')\n",
    "plt.scatter(mse_t['n'], mse_t['MSE Test'], alpha=0.5, color='green', label='T-Learner')\n",
    "#plt.scatter(mse_cf_dml['n'], mse_cf_dml['MSE Test'], alpha=0.5, color='blue', label='Causal Forest DML')\n",
    "#plt.scatter(mse_x['n'], mse_x['MSE Test'], alpha=0.5, color='purple', label='X-Learner')\n",
    "#plt.scatter(mse_grf['n'], mse_grf['MSE Test'], alpha=0.5, color='grey', label='Generalized Random Forest')\n",
    "\n",
    "\n",
    "# Set the x-ticks and y-ticks\n",
    "#plt.xticks([])\n",
    "# Set labels and legend\n",
    "plt.xlabel('No. of Observations')\n",
    "plt.ylabel('MSE Test')\n",
    "plt.title('p = 20')\n",
    "plt.legend()\n",
    "\n",
    "# Show the plot\n",
    "plt.show()"
   ]
  }
 ],
 "metadata": {
  "kernelspec": {
   "display_name": "Python 3",
   "language": "python",
   "name": "python3"
  },
  "language_info": {
   "codemirror_mode": {
    "name": "ipython",
    "version": 3
   },
   "file_extension": ".py",
   "mimetype": "text/x-python",
   "name": "python",
   "nbconvert_exporter": "python",
   "pygments_lexer": "ipython3",
   "version": "3.12.3"
  }
 },
 "nbformat": 4,
 "nbformat_minor": 2
}

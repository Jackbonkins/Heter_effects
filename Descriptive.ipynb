{
 "cells": [
  {
   "cell_type": "code",
   "execution_count": 1,
   "metadata": {},
   "outputs": [],
   "source": [
    "import Graph_feat as graph\n",
    "from sklearn.linear_model import LinearRegression\n",
    "from Gen_data import SimulationStudy\n",
    "import numpy as np\n",
    "import pandas as pd"
   ]
  },
  {
   "cell_type": "code",
   "execution_count": 2,
   "metadata": {},
   "outputs": [],
   "source": [
    "np.random.seed(220924)\n",
    "sim1: SimulationStudy = SimulationStudy(p=20, mean_correlation=0.5, cor_variance=0.2, n=1500, no_feat_cate=3, seed=220924)\n",
    "simulation_linear = sim1.create_dataset()\n",
    "cate_linear = simulation_linear[['CATE']]\n",
    "\n",
    "sim2: SimulationStudy = SimulationStudy(p=20, mean_correlation=0.5, cor_variance=0.2, n=1500, no_feat_cate=3, non_linear='quadratic', seed=220924)\n",
    "simulation_quad = sim2.create_dataset()\n",
    "cate_quadratic = simulation_quad[['CATE']]"
   ]
  },
  {
   "cell_type": "code",
   "execution_count": 3,
   "metadata": {},
   "outputs": [
    {
     "data": {
      "text/plain": [
       "0.544633788394955"
      ]
     },
     "execution_count": 3,
     "metadata": {},
     "output_type": "execute_result"
    }
   ],
   "source": [
    "cov_lin, mean = sim1.get_covariance_matrix()\n",
    "np.mean(cov_lin)"
   ]
  },
  {
   "cell_type": "code",
   "execution_count": null,
   "metadata": {},
   "outputs": [],
   "source": [
    "columns = [col for col in simulation_linear.columns if col.startswith('X')]\n",
    "for col in columns:\n",
    "    print(f'Mean of {col} is:', np.mean(simulation_linear[col].to_numpy()))\n",
    "    print(f'Variance of {col} is:', np.var(simulation_linear[col].to_numpy()))"
   ]
  },
  {
   "cell_type": "markdown",
   "metadata": {},
   "source": [
    "Linear Setting"
   ]
  },
  {
   "cell_type": "code",
   "execution_count": 4,
   "metadata": {},
   "outputs": [
    {
     "data": {
      "text/html": [
       "<div>\n",
       "<style scoped>\n",
       "    .dataframe tbody tr th:only-of-type {\n",
       "        vertical-align: middle;\n",
       "    }\n",
       "\n",
       "    .dataframe tbody tr th {\n",
       "        vertical-align: top;\n",
       "    }\n",
       "\n",
       "    .dataframe thead th {\n",
       "        text-align: right;\n",
       "    }\n",
       "</style>\n",
       "<table border=\"1\" class=\"dataframe\">\n",
       "  <thead>\n",
       "    <tr style=\"text-align: right;\">\n",
       "      <th></th>\n",
       "      <th>CATE</th>\n",
       "      <th>X0</th>\n",
       "      <th>X1</th>\n",
       "      <th>X2</th>\n",
       "    </tr>\n",
       "  </thead>\n",
       "  <tbody>\n",
       "    <tr>\n",
       "      <th>CATE</th>\n",
       "      <td>1.000000</td>\n",
       "      <td>0.518266</td>\n",
       "      <td>0.937289</td>\n",
       "      <td>0.933951</td>\n",
       "    </tr>\n",
       "    <tr>\n",
       "      <th>X0</th>\n",
       "      <td>0.518266</td>\n",
       "      <td>1.000000</td>\n",
       "      <td>0.266787</td>\n",
       "      <td>0.446802</td>\n",
       "    </tr>\n",
       "    <tr>\n",
       "      <th>X1</th>\n",
       "      <td>0.937289</td>\n",
       "      <td>0.266787</td>\n",
       "      <td>1.000000</td>\n",
       "      <td>0.802635</td>\n",
       "    </tr>\n",
       "    <tr>\n",
       "      <th>X2</th>\n",
       "      <td>0.933951</td>\n",
       "      <td>0.446802</td>\n",
       "      <td>0.802635</td>\n",
       "      <td>1.000000</td>\n",
       "    </tr>\n",
       "  </tbody>\n",
       "</table>\n",
       "</div>"
      ],
      "text/plain": [
       "          CATE        X0        X1        X2\n",
       "CATE  1.000000  0.518266  0.937289  0.933951\n",
       "X0    0.518266  1.000000  0.266787  0.446802\n",
       "X1    0.937289  0.266787  1.000000  0.802635\n",
       "X2    0.933951  0.446802  0.802635  1.000000"
      ]
     },
     "execution_count": 4,
     "metadata": {},
     "output_type": "execute_result"
    }
   ],
   "source": [
    "#Check for pairwise correlations\n",
    "simulation_linear_rel = simulation_linear[['CATE', 'X0', 'X1', 'X2']]\n",
    "correlation_pairwise_lin = simulation_linear_rel.corr()\n",
    "correlation_pairwise_lin"
   ]
  },
  {
   "cell_type": "code",
   "execution_count": null,
   "metadata": {},
   "outputs": [],
   "source": [
    "#Calculate the weights\n",
    "lr = LinearRegression().fit(simulation_linear[['X0', 'X1', 'X2']].to_numpy(), cate_linear.to_numpy())\n",
    "feat_weights_linear = lr.coef_\n",
    "feat_weights_linear"
   ]
  },
  {
   "cell_type": "code",
   "execution_count": null,
   "metadata": {},
   "outputs": [],
   "source": [
    "## Plot relationship between all features and CATE\n",
    "graph.plot_cate_feat_val(p=20, n=1500, mean_correlation=0.5, no_feat_cate=3, function='linear')\n",
    "\n",
    "## Plot relationship between CATE features and CATE\n",
    "graph.plot_cate_feat_val(p=20, n=1500, mean_correlation=0.5, no_feat_cate=3, function='linear', total=False)"
   ]
  },
  {
   "cell_type": "markdown",
   "metadata": {},
   "source": [
    "Quadratic Setting"
   ]
  },
  {
   "cell_type": "code",
   "execution_count": null,
   "metadata": {},
   "outputs": [],
   "source": [
    "simulation_quad_rel = simulation_quad[['CATE', 'X0', 'X1', 'X2']]\n",
    "correlation_pairwise_quad = simulation_quad_rel.corr()\n",
    "correlation_pairwise_quad"
   ]
  },
  {
   "cell_type": "code",
   "execution_count": null,
   "metadata": {},
   "outputs": [],
   "source": [
    "#Calculate the weights\n",
    "lr = LinearRegression().fit(np.square(simulation_quad[['X0', 'X1', 'X2']].to_numpy()), cate_quadratic.to_numpy())\n",
    "feat_weights_quad = lr.coef_\n",
    "feat_weights_quad"
   ]
  },
  {
   "cell_type": "code",
   "execution_count": null,
   "metadata": {},
   "outputs": [],
   "source": [
    "## Plot relationship between all features and CATE\n",
    "graph.plot_cate_feat_val(p=20, n=1500, mean_correlation=0.5, no_feat_cate=3, function='quadratic')\n",
    "\n",
    "## Plot relationship between CATE features and CATE\n",
    "graph.plot_cate_feat_val(p=20, n=1500, mean_correlation=0.5, no_feat_cate=3, function='quadratic', total=False)"
   ]
  }
 ],
 "metadata": {
  "kernelspec": {
   "display_name": "Python 3",
   "language": "python",
   "name": "python3"
  },
  "language_info": {
   "codemirror_mode": {
    "name": "ipython",
    "version": 3
   },
   "file_extension": ".py",
   "mimetype": "text/x-python",
   "name": "python",
   "nbconvert_exporter": "python",
   "pygments_lexer": "ipython3",
   "version": "3.12.3"
  }
 },
 "nbformat": 4,
 "nbformat_minor": 2
}
